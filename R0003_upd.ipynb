{
 "cells": [
  {
   "cell_type": "markdown",
   "metadata": {},
   "source": [
    "# 3. Data Tables"
   ]
  },
  {
   "cell_type": "markdown",
   "metadata": {
    "collapsed": true
   },
   "source": [
    "## 3.1 Matrices\n",
    "A matrix is a rectangular array of numbers. From technical perspective, it is a vector, with\n",
    "two additional attributes, namely, the numbers of rows and columns. Vctors we considered so far were one-dimensional. Matrices are a special type of vetor. They have dimension attribute. in other words, matrices are a multi-dimensional vectors."
   ]
  },
  {
   "cell_type": "code",
   "execution_count": 16,
   "metadata": {
    "collapsed": false,
    "vscode": {
     "languageId": "r"
    }
   },
   "outputs": [
    {
     "data": {
      "text/html": [
       "<table>\n",
       "<tbody>\n",
       "\t<tr><td>NA</td><td>NA</td><td>NA</td></tr>\n",
       "\t<tr><td>NA</td><td>NA</td><td>NA</td></tr>\n",
       "</tbody>\n",
       "</table>\n"
      ],
      "text/latex": [
       "\\begin{tabular}{lll}\n",
       "\t NA & NA & NA\\\\\n",
       "\t NA & NA & NA\\\\\n",
       "\\end{tabular}\n"
      ],
      "text/markdown": [
       "1. NA\n",
       "2. NA\n",
       "3. NA\n",
       "4. NA\n",
       "5. NA\n",
       "6. NA\n",
       "\n",
       "\n"
      ],
      "text/plain": [
       "     [,1] [,2] [,3]\n",
       "[1,] NA   NA   NA  \n",
       "[2,] NA   NA   NA  "
      ]
     },
     "metadata": {},
     "output_type": "display_data"
    },
    {
     "name": "stdout",
     "output_type": "stream",
     "text": [
      "     [,1] [,2] [,3]\n",
      "[1,]   NA   NA   NA\n",
      "[2,]   NA   NA   NA\n"
     ]
    }
   ],
   "source": [
    "m <- matrix(nrow=2, ncol=3) #empty matrix with dimension\n",
    "m\n",
    "print(m)"
   ]
  },
  {
   "cell_type": "code",
   "execution_count": 2,
   "metadata": {
    "collapsed": false,
    "vscode": {
     "languageId": "r"
    }
   },
   "outputs": [
    {
     "data": {
      "text/html": [
       "<strong>$dim</strong> = <ol class=list-inline>\n",
       "\t<li>2</li>\n",
       "\t<li>3</li>\n",
       "</ol>\n"
      ],
      "text/latex": [
       "\\textbf{\\$dim} = \\begin{enumerate*}\n",
       "\\item 2\n",
       "\\item 3\n",
       "\\end{enumerate*}\n"
      ],
      "text/markdown": [
       "**$dim** = 1. 2\n",
       "2. 3\n",
       "\n",
       "\n"
      ],
      "text/plain": [
       "$dim\n",
       "[1] 2 3\n"
      ]
     },
     "metadata": {},
     "output_type": "display_data"
    }
   ],
   "source": [
    "attributes(m)"
   ]
  },
  {
   "cell_type": "code",
   "execution_count": 3,
   "metadata": {
    "collapsed": false,
    "vscode": {
     "languageId": "r"
    }
   },
   "outputs": [
    {
     "data": {
      "text/html": [
       "<ol class=list-inline>\n",
       "\t<li>2</li>\n",
       "\t<li>3</li>\n",
       "</ol>\n"
      ],
      "text/latex": [
       "\\begin{enumerate*}\n",
       "\\item 2\n",
       "\\item 3\n",
       "\\end{enumerate*}\n"
      ],
      "text/markdown": [
       "1. 2\n",
       "2. 3\n",
       "\n",
       "\n"
      ],
      "text/plain": [
       "[1] 2 3"
      ]
     },
     "metadata": {},
     "output_type": "display_data"
    }
   ],
   "source": [
    "dim(m)"
   ]
  },
  {
   "cell_type": "code",
   "execution_count": 4,
   "metadata": {
    "collapsed": false,
    "vscode": {
     "languageId": "r"
    }
   },
   "outputs": [
    {
     "name": "stdout",
     "output_type": "stream",
     "text": [
      "[1] \"2  +  3\"\n"
     ]
    }
   ],
   "source": [
    "print(paste(dim(m)[1], \" + \", dim(m)[2]))"
   ]
  },
  {
   "cell_type": "code",
   "execution_count": 18,
   "metadata": {
    "collapsed": false,
    "vscode": {
     "languageId": "r"
    }
   },
   "outputs": [
    {
     "name": "stdout",
     "output_type": "stream",
     "text": [
      "     [,1] [,2] [,3]\n",
      "[1,]    1    6    8\n",
      "[2,]    3    2    4\n"
     ]
    }
   ],
   "source": [
    "m <- matrix(c(1,3,6,2,8,4), nrow=2, ncol=3 ) #matrices are build column-wise\n",
    "print(m)"
   ]
  },
  {
   "cell_type": "code",
   "execution_count": 19,
   "metadata": {
    "collapsed": false,
    "vscode": {
     "languageId": "r"
    }
   },
   "outputs": [
    {
     "name": "stdout",
     "output_type": "stream",
     "text": [
      " num [1:2, 1:3] 1 3 6 2 8 4\n"
     ]
    }
   ],
   "source": [
    "str(m) # one of the most important functions"
   ]
  },
  {
   "cell_type": "code",
   "execution_count": 6,
   "metadata": {
    "collapsed": false,
    "vscode": {
     "languageId": "r"
    }
   },
   "outputs": [
    {
     "data": {
      "text/html": [
       "2"
      ],
      "text/latex": [
       "2"
      ],
      "text/markdown": [
       "2"
      ],
      "text/plain": [
       "[1] 2"
      ]
     },
     "metadata": {},
     "output_type": "display_data"
    }
   ],
   "source": [
    "m[2,2]"
   ]
  },
  {
   "cell_type": "markdown",
   "metadata": {},
   "source": [
    "Other commonly used approaches to create matrix are cbind() and rbind()."
   ]
  },
  {
   "cell_type": "code",
   "execution_count": 7,
   "metadata": {
    "collapsed": false,
    "vscode": {
     "languageId": "r"
    }
   },
   "outputs": [
    {
     "name": "stdout",
     "output_type": "stream",
     "text": [
      "       x   y\n",
      "[1,]   1   2\n",
      "[2,]  11  22\n",
      "[3,] 111 222\n",
      "[1] \"****\"\n",
      "  [,1] [,2] [,3]\n",
      "x    1   11  111\n",
      "y    2   22  222\n"
     ]
    }
   ],
   "source": [
    "#two other methods to creat matrices\n",
    "x <- c(1,11,111)\n",
    "y <- c(2,22,222)\n",
    "m1 <- cbind(x,y) #column-binding\n",
    "print(m1)\n",
    "print(\"****\")\n",
    "m2 <- rbind(x,y) #raw-binding\n",
    "print(m2)"
   ]
  },
  {
   "cell_type": "markdown",
   "metadata": {},
   "source": [
    "## 3.2 Data Frames\n",
    "Data frames are very important object in R. When you have $m$ obsrvation with $n$ attributes, you have a dataframe of size $m\\times n$. As the attributes could be of any class, a data frame is technically a list, with each component being a vector corresponding to a column in our data “matrix.” Therefore, dataframes are a special type of list, where every element of this list should have the same length. Dataframes can store different classes of object in each column. Matrices, should have the same class for every element. "
   ]
  },
  {
   "cell_type": "code",
   "execution_count": 8,
   "metadata": {
    "collapsed": false,
    "vscode": {
     "languageId": "r"
    }
   },
   "outputs": [
    {
     "name": "stdout",
     "output_type": "stream",
     "text": [
      "  x y     z\n",
      "1 1 a  TRUE\n",
      "2 2 b  TRUE\n",
      "3 3 c FALSE\n"
     ]
    }
   ],
   "source": [
    "# to create a dataframe\n",
    "x <- c(1,2,3)\n",
    "y <- c(\"a\", \"b\", \"c\")\n",
    "z <- c(TRUE, TRUE, FALSE)\n",
    "df <- data.frame(x,y,z)\n",
    "print(df)"
   ]
  },
  {
   "cell_type": "code",
   "execution_count": 9,
   "metadata": {
    "collapsed": false,
    "vscode": {
     "languageId": "r"
    }
   },
   "outputs": [
    {
     "data": {
      "text/html": [
       "<dl>\n",
       "\t<dt>$names</dt>\n",
       "\t\t<dd><ol class=list-inline>\n",
       "\t<li>'x'</li>\n",
       "\t<li>'y'</li>\n",
       "\t<li>'z'</li>\n",
       "</ol>\n",
       "</dd>\n",
       "\t<dt>$row.names</dt>\n",
       "\t\t<dd><ol class=list-inline>\n",
       "\t<li>1</li>\n",
       "\t<li>2</li>\n",
       "\t<li>3</li>\n",
       "</ol>\n",
       "</dd>\n",
       "\t<dt>$class</dt>\n",
       "\t\t<dd>'data.frame'</dd>\n",
       "</dl>\n"
      ],
      "text/latex": [
       "\\begin{description}\n",
       "\\item[\\$names] \\begin{enumerate*}\n",
       "\\item 'x'\n",
       "\\item 'y'\n",
       "\\item 'z'\n",
       "\\end{enumerate*}\n",
       "\n",
       "\\item[\\$row.names] \\begin{enumerate*}\n",
       "\\item 1\n",
       "\\item 2\n",
       "\\item 3\n",
       "\\end{enumerate*}\n",
       "\n",
       "\\item[\\$class] 'data.frame'\n",
       "\\end{description}\n"
      ],
      "text/markdown": [
       "$names\n",
       ":   1. 'x'\n",
       "2. 'y'\n",
       "3. 'z'\n",
       "\n",
       "\n",
       "\n",
       "$row.names\n",
       ":   1. 1\n",
       "2. 2\n",
       "3. 3\n",
       "\n",
       "\n",
       "\n",
       "$class\n",
       ":   'data.frame'\n",
       "\n",
       "\n"
      ],
      "text/plain": [
       "$names\n",
       "[1] \"x\" \"y\" \"z\"\n",
       "\n",
       "$row.names\n",
       "[1] 1 2 3\n",
       "\n",
       "$class\n",
       "[1] \"data.frame\"\n"
      ]
     },
     "metadata": {},
     "output_type": "display_data"
    }
   ],
   "source": [
    "attributes(df)"
   ]
  },
  {
   "cell_type": "code",
   "execution_count": 10,
   "metadata": {
    "collapsed": false,
    "vscode": {
     "languageId": "r"
    }
   },
   "outputs": [
    {
     "data": {
      "text/html": [
       "3"
      ],
      "text/latex": [
       "3"
      ],
      "text/markdown": [
       "3"
      ],
      "text/plain": [
       "[1] 3"
      ]
     },
     "metadata": {},
     "output_type": "display_data"
    }
   ],
   "source": [
    "nrow(df)"
   ]
  },
  {
   "cell_type": "code",
   "execution_count": 11,
   "metadata": {
    "collapsed": false,
    "vscode": {
     "languageId": "r"
    }
   },
   "outputs": [
    {
     "data": {
      "text/html": [
       "3"
      ],
      "text/latex": [
       "3"
      ],
      "text/markdown": [
       "3"
      ],
      "text/plain": [
       "[1] 3"
      ]
     },
     "metadata": {},
     "output_type": "display_data"
    }
   ],
   "source": [
    "ncol(df)"
   ]
  },
  {
   "cell_type": "code",
   "execution_count": 12,
   "metadata": {
    "collapsed": false,
    "vscode": {
     "languageId": "r"
    }
   },
   "outputs": [
    {
     "data": {
      "text/html": [
       "b"
      ],
      "text/latex": [
       "b"
      ],
      "text/markdown": [
       "b"
      ],
      "text/plain": [
       "[1] b\n",
       "Levels: a b c"
      ]
     },
     "metadata": {},
     "output_type": "display_data"
    }
   ],
   "source": [
    "df[2,2]"
   ]
  },
  {
   "cell_type": "code",
   "execution_count": 10,
   "metadata": {
    "collapsed": false,
    "vscode": {
     "languageId": "r"
    }
   },
   "outputs": [
    {
     "data": {
      "text/html": [
       "<table>\n",
       "<thead><tr><th scope=col>c.1..2.</th><th scope=col>c.3..4.</th></tr></thead>\n",
       "<tbody>\n",
       "\t<tr><td>1</td><td>3</td></tr>\n",
       "\t<tr><td>2</td><td>4</td></tr>\n",
       "</tbody>\n",
       "</table>\n"
      ],
      "text/latex": [
       "\\begin{tabular}{r|ll}\n",
       " c.1..2. & c.3..4.\\\\\n",
       "\\hline\n",
       "\t 1 & 3\\\\\n",
       "\t 2 & 4\\\\\n",
       "\\end{tabular}\n"
      ],
      "text/plain": [
       "  c.1..2. c.3..4.\n",
       "1 1       3      \n",
       "2 2       4      "
      ]
     },
     "metadata": {},
     "output_type": "display_data"
    }
   ],
   "source": [
    "z <- data.frame(c(1,2), c(3,4))\n",
    "z"
   ]
  },
  {
   "cell_type": "code",
   "execution_count": 8,
   "metadata": {
    "collapsed": false,
    "vscode": {
     "languageId": "r"
    }
   },
   "outputs": [
    {
     "data": {
      "text/html": [
       "'data.frame'"
      ],
      "text/latex": [
       "'data.frame'"
      ],
      "text/markdown": [
       "'data.frame'"
      ],
      "text/plain": [
       "[1] \"data.frame\""
      ]
     },
     "metadata": {},
     "output_type": "display_data"
    }
   ],
   "source": [
    "class(z)"
   ]
  },
  {
   "cell_type": "code",
   "execution_count": 9,
   "metadata": {
    "collapsed": false,
    "vscode": {
     "languageId": "r"
    }
   },
   "outputs": [
    {
     "data": {
      "text/html": [
       "<table>\n",
       "<thead><tr><th scope=col>X1</th><th scope=col>X2</th></tr></thead>\n",
       "<tbody>\n",
       "\t<tr><td>1</td><td>3</td></tr>\n",
       "\t<tr><td>2</td><td>4</td></tr>\n",
       "</tbody>\n",
       "</table>\n"
      ],
      "text/latex": [
       "\\begin{tabular}{r|ll}\n",
       " X1 & X2\\\\\n",
       "\\hline\n",
       "\t 1 & 3\\\\\n",
       "\t 2 & 4\\\\\n",
       "\\end{tabular}\n"
      ],
      "text/plain": [
       "  X1 X2\n",
       "1 1  3 \n",
       "2 2  4 "
      ]
     },
     "metadata": {},
     "output_type": "display_data"
    },
    {
     "data": {
      "text/html": [
       "'data.frame'"
      ],
      "text/latex": [
       "'data.frame'"
      ],
      "text/markdown": [
       "'data.frame'"
      ],
      "text/plain": [
       "[1] \"data.frame\""
      ]
     },
     "metadata": {},
     "output_type": "display_data"
    }
   ],
   "source": [
    "z1 <- data.frame(cbind(c(1,2), c(3,4)))\n",
    "z1\n",
    "class(z1)"
   ]
  },
  {
   "cell_type": "markdown",
   "metadata": {},
   "source": [
    "### Names"
   ]
  },
  {
   "cell_type": "code",
   "execution_count": 1,
   "metadata": {
    "collapsed": false,
    "vscode": {
     "languageId": "r"
    }
   },
   "outputs": [
    {
     "data": {
      "text/plain": [
       "NULL"
      ]
     },
     "metadata": {},
     "output_type": "display_data"
    }
   ],
   "source": [
    "x <- c(3,5,7)\n",
    "names(x)"
   ]
  },
  {
   "cell_type": "code",
   "execution_count": 2,
   "metadata": {
    "collapsed": false,
    "vscode": {
     "languageId": "r"
    }
   },
   "outputs": [
    {
     "name": "stdout",
     "output_type": "stream",
     "text": [
      " low  med high \n",
      "   3    5    7 \n"
     ]
    }
   ],
   "source": [
    "names(x) <- c(\"low\", \"med\", \"high\")\n",
    "print(x)"
   ]
  },
  {
   "cell_type": "code",
   "execution_count": 3,
   "metadata": {
    "collapsed": false,
    "vscode": {
     "languageId": "r"
    }
   },
   "outputs": [
    {
     "data": {
      "text/html": [
       "<ol class=list-inline>\n",
       "\t<li>'low'</li>\n",
       "\t<li>'med'</li>\n",
       "\t<li>'high'</li>\n",
       "</ol>\n"
      ],
      "text/latex": [
       "\\begin{enumerate*}\n",
       "\\item 'low'\n",
       "\\item 'med'\n",
       "\\item 'high'\n",
       "\\end{enumerate*}\n"
      ],
      "text/markdown": [
       "1. 'low'\n",
       "2. 'med'\n",
       "3. 'high'\n",
       "\n",
       "\n"
      ],
      "text/plain": [
       "[1] \"low\"  \"med\"  \"high\""
      ]
     },
     "metadata": {},
     "output_type": "display_data"
    }
   ],
   "source": [
    "names(x)"
   ]
  },
  {
   "cell_type": "code",
   "execution_count": 4,
   "metadata": {
    "collapsed": false,
    "vscode": {
     "languageId": "r"
    }
   },
   "outputs": [
    {
     "data": {
      "text/html": [
       "<dl class=dl-horizontal>\n",
       "\t<dt>low</dt>\n",
       "\t\t<dd>3</dd>\n",
       "\t<dt>med</dt>\n",
       "\t\t<dd>5</dd>\n",
       "\t<dt>high</dt>\n",
       "\t\t<dd>7</dd>\n",
       "</dl>\n"
      ],
      "text/latex": [
       "\\begin{description*}\n",
       "\\item[low] 3\n",
       "\\item[med] 5\n",
       "\\item[high] 7\n",
       "\\end{description*}\n"
      ],
      "text/markdown": [
       "low\n",
       ":   3med\n",
       ":   5high\n",
       ":   7\n",
       "\n"
      ],
      "text/plain": [
       " low  med high \n",
       "   3    5    7 "
      ]
     },
     "metadata": {},
     "output_type": "display_data"
    }
   ],
   "source": [
    "x"
   ]
  },
  {
   "cell_type": "code",
   "execution_count": 5,
   "metadata": {
    "collapsed": false,
    "vscode": {
     "languageId": "r"
    }
   },
   "outputs": [
    {
     "data": {
      "text/html": [
       "<ol class=list-inline>\n",
       "\t<li>3</li>\n",
       "\t<li>5</li>\n",
       "\t<li>7</li>\n",
       "</ol>\n"
      ],
      "text/latex": [
       "\\begin{enumerate*}\n",
       "\\item 3\n",
       "\\item 5\n",
       "\\item 7\n",
       "\\end{enumerate*}\n"
      ],
      "text/markdown": [
       "1. 3\n",
       "2. 5\n",
       "3. 7\n",
       "\n",
       "\n"
      ],
      "text/plain": [
       "[1] 3 5 7"
      ]
     },
     "metadata": {},
     "output_type": "display_data"
    }
   ],
   "source": [
    "names(x) <- NULL\n",
    "x"
   ]
  },
  {
   "cell_type": "code",
   "execution_count": 2,
   "metadata": {
    "collapsed": false,
    "vscode": {
     "languageId": "r"
    }
   },
   "outputs": [
    {
     "name": "stdout",
     "output_type": "stream",
     "text": [
      "$low\n",
      "[1] 3\n",
      "\n",
      "$med\n",
      "[1] 5\n",
      "\n",
      "$high\n",
      "[1] 7\n",
      "\n"
     ]
    }
   ],
   "source": [
    "y <- list(low=3, med=5, high=7)\n",
    "print(y)"
   ]
  },
  {
   "cell_type": "code",
   "execution_count": 4,
   "metadata": {
    "collapsed": false,
    "vscode": {
     "languageId": "r"
    }
   },
   "outputs": [
    {
     "data": {
      "text/html": [
       "3"
      ],
      "text/latex": [
       "3"
      ],
      "text/markdown": [
       "3"
      ],
      "text/plain": [
       "[1] 3"
      ]
     },
     "metadata": {},
     "output_type": "display_data"
    },
    {
     "name": "stdout",
     "output_type": "stream",
     "text": [
      "[1] 3\n"
     ]
    }
   ],
   "source": [
    "# Access list elements by their name\n",
    "y$low\n",
    "print(y$low)"
   ]
  },
  {
   "cell_type": "code",
   "execution_count": 17,
   "metadata": {
    "collapsed": true,
    "vscode": {
     "languageId": "r"
    }
   },
   "outputs": [],
   "source": [
    "m <- matrix(1:6, nrow=3, ncol=2)\n",
    "dimnames(m)<- list(c(\"a\", \"b\", \"c\"), c(\"d\", \"e\"))"
   ]
  },
  {
   "cell_type": "code",
   "execution_count": 18,
   "metadata": {
    "collapsed": false,
    "vscode": {
     "languageId": "r"
    }
   },
   "outputs": [
    {
     "name": "stdout",
     "output_type": "stream",
     "text": [
      "  d e\n",
      "a 1 4\n",
      "b 2 5\n",
      "c 3 6\n"
     ]
    }
   ],
   "source": [
    "print(m)"
   ]
  },
  {
   "cell_type": "code",
   "execution_count": 19,
   "metadata": {
    "collapsed": false,
    "vscode": {
     "languageId": "r"
    }
   },
   "outputs": [
    {
     "name": "stdout",
     "output_type": "stream",
     "text": [
      "          male fmale\n",
      "ice-cream    1     4\n",
      "coffee       2     5\n",
      "cake         3     6\n"
     ]
    }
   ],
   "source": [
    "colnames(m) <- c(\"male\", \"fmale\")\n",
    "rownames(m) <- c(\"ice-cream\", \"coffee\", \"cake\")\n",
    "print(m)"
   ]
  },
  {
   "cell_type": "code",
   "execution_count": 20,
   "metadata": {
    "collapsed": false,
    "vscode": {
     "languageId": "r"
    }
   },
   "outputs": [
    {
     "name": "stdout",
     "output_type": "stream",
     "text": [
      "  x y     z\n",
      "1 1 a  TRUE\n",
      "2 2 b  TRUE\n",
      "3 3 c FALSE\n"
     ]
    }
   ],
   "source": [
    "print(df)"
   ]
  },
  {
   "cell_type": "code",
   "execution_count": 21,
   "metadata": {
    "collapsed": false,
    "vscode": {
     "languageId": "r"
    }
   },
   "outputs": [
    {
     "name": "stdout",
     "output_type": "stream",
     "text": [
      "   x y     z\n",
      "f1 1 a  TRUE\n",
      "f2 2 b  TRUE\n",
      "f3 3 c FALSE\n"
     ]
    }
   ],
   "source": [
    "row.names(df) <- c(\"f1\", \"f2\", \"f3\")\n",
    "print(df)"
   ]
  },
  {
   "cell_type": "code",
   "execution_count": 22,
   "metadata": {
    "collapsed": false,
    "vscode": {
     "languageId": "r"
    }
   },
   "outputs": [
    {
     "name": "stdout",
     "output_type": "stream",
     "text": [
      "   rank character value\n",
      "f1    1         a  TRUE\n",
      "f2    2         b  TRUE\n",
      "f3    3         c FALSE\n"
     ]
    }
   ],
   "source": [
    "colnames(df) <- c(\"rank\", \"character\", \"value\")\n",
    "print(df)"
   ]
  },
  {
   "cell_type": "code",
   "execution_count": 23,
   "metadata": {
    "collapsed": false,
    "vscode": {
     "languageId": "r"
    }
   },
   "outputs": [
    {
     "name": "stdout",
     "output_type": "stream",
     "text": [
      "   r1 r2    r3\n",
      "f1  1  a  TRUE\n",
      "f2  2  b  TRUE\n",
      "f3  3  c FALSE\n"
     ]
    }
   ],
   "source": [
    "names(df) <- c(\"r1\", \"r2\", \"r3\")\n",
    "print(df)"
   ]
  },
  {
   "cell_type": "code",
   "execution_count": 24,
   "metadata": {
    "collapsed": false,
    "vscode": {
     "languageId": "r"
    }
   },
   "outputs": [
    {
     "data": {
      "text/html": [
       "<dl>\n",
       "\t<dt>$names</dt>\n",
       "\t\t<dd><ol class=list-inline>\n",
       "\t<li>'r1'</li>\n",
       "\t<li>'r2'</li>\n",
       "\t<li>'r3'</li>\n",
       "</ol>\n",
       "</dd>\n",
       "\t<dt>$row.names</dt>\n",
       "\t\t<dd><ol class=list-inline>\n",
       "\t<li>'f1'</li>\n",
       "\t<li>'f2'</li>\n",
       "\t<li>'f3'</li>\n",
       "</ol>\n",
       "</dd>\n",
       "\t<dt>$class</dt>\n",
       "\t\t<dd>'data.frame'</dd>\n",
       "</dl>\n"
      ],
      "text/latex": [
       "\\begin{description}\n",
       "\\item[\\$names] \\begin{enumerate*}\n",
       "\\item 'r1'\n",
       "\\item 'r2'\n",
       "\\item 'r3'\n",
       "\\end{enumerate*}\n",
       "\n",
       "\\item[\\$row.names] \\begin{enumerate*}\n",
       "\\item 'f1'\n",
       "\\item 'f2'\n",
       "\\item 'f3'\n",
       "\\end{enumerate*}\n",
       "\n",
       "\\item[\\$class] 'data.frame'\n",
       "\\end{description}\n"
      ],
      "text/markdown": [
       "$names\n",
       ":   1. 'r1'\n",
       "2. 'r2'\n",
       "3. 'r3'\n",
       "\n",
       "\n",
       "\n",
       "$row.names\n",
       ":   1. 'f1'\n",
       "2. 'f2'\n",
       "3. 'f3'\n",
       "\n",
       "\n",
       "\n",
       "$class\n",
       ":   'data.frame'\n",
       "\n",
       "\n"
      ],
      "text/plain": [
       "$names\n",
       "[1] \"r1\" \"r2\" \"r3\"\n",
       "\n",
       "$row.names\n",
       "[1] \"f1\" \"f2\" \"f3\"\n",
       "\n",
       "$class\n",
       "[1] \"data.frame\"\n"
      ]
     },
     "metadata": {},
     "output_type": "display_data"
    }
   ],
   "source": [
    "attributes(df)"
   ]
  },
  {
   "cell_type": "code",
   "execution_count": 25,
   "metadata": {
    "collapsed": false,
    "vscode": {
     "languageId": "r"
    }
   },
   "outputs": [
    {
     "data": {
      "text/html": [
       "'data.frame'"
      ],
      "text/latex": [
       "'data.frame'"
      ],
      "text/markdown": [
       "'data.frame'"
      ],
      "text/plain": [
       "[1] \"data.frame\""
      ]
     },
     "metadata": {},
     "output_type": "display_data"
    },
    {
     "data": {
      "text/html": [
       "'list'"
      ],
      "text/latex": [
       "'list'"
      ],
      "text/markdown": [
       "'list'"
      ],
      "text/plain": [
       "[1] \"list\""
      ]
     },
     "metadata": {},
     "output_type": "display_data"
    },
    {
     "data": {
      "text/html": [
       "'list'"
      ],
      "text/latex": [
       "'list'"
      ],
      "text/markdown": [
       "'list'"
      ],
      "text/plain": [
       "[1] \"list\""
      ]
     },
     "metadata": {},
     "output_type": "display_data"
    }
   ],
   "source": [
    "class(df)\n",
    "mode(df)\n",
    "typeof(df)"
   ]
  },
  {
   "cell_type": "code",
   "execution_count": 26,
   "metadata": {
    "collapsed": false,
    "vscode": {
     "languageId": "r"
    }
   },
   "outputs": [
    {
     "name": "stdout",
     "output_type": "stream",
     "text": [
      "[1] 5\n"
     ]
    },
    {
     "data": {
      "text/plain": [
       "NULL"
      ]
     },
     "metadata": {},
     "output_type": "display_data"
    }
   ],
   "source": [
    "x<- 5\n",
    "print(x)\n",
    "names(x)"
   ]
  },
  {
   "cell_type": "code",
   "execution_count": 27,
   "metadata": {
    "collapsed": false,
    "vscode": {
     "languageId": "r"
    }
   },
   "outputs": [
    {
     "name": "stdout",
     "output_type": "stream",
     "text": [
      "low \n",
      "  5 \n"
     ]
    },
    {
     "data": {
      "text/html": [
       "'low'"
      ],
      "text/latex": [
       "'low'"
      ],
      "text/markdown": [
       "'low'"
      ],
      "text/plain": [
       "[1] \"low\""
      ]
     },
     "metadata": {},
     "output_type": "display_data"
    }
   ],
   "source": [
    "names(x) <- c(\"low\")\n",
    "print(x)\n",
    "names(x)"
   ]
  },
  {
   "cell_type": "code",
   "execution_count": 28,
   "metadata": {
    "collapsed": false,
    "vscode": {
     "languageId": "r"
    }
   },
   "outputs": [
    {
     "data": {
      "text/html": [
       "<strong>$names</strong> = 'low'"
      ],
      "text/latex": [
       "\\textbf{\\$names} = 'low'"
      ],
      "text/markdown": [
       "**$names** = 'low'"
      ],
      "text/plain": [
       "$names\n",
       "[1] \"low\"\n"
      ]
     },
     "metadata": {},
     "output_type": "display_data"
    }
   ],
   "source": [
    "attributes(x)"
   ]
  },
  {
   "cell_type": "markdown",
   "metadata": {},
   "source": [
    "Matrices and dataframes are very similar to each other as both are generally two-dimensional. However, matrices are extensions of vectors, and dataframes are extensions of lists. Matrices have all the data of te same type. Therefore, when your data has different data types, use dataframes."
   ]
  },
  {
   "cell_type": "code",
   "execution_count": 20,
   "metadata": {
    "collapsed": false,
    "vscode": {
     "languageId": "r"
    }
   },
   "outputs": [
    {
     "data": {
      "text/html": [
       "<table>\n",
       "<tbody>\n",
       "\t<tr><td>1 </td><td> 6</td><td>11</td><td>16</td><td>21</td></tr>\n",
       "\t<tr><td>2 </td><td> 7</td><td>12</td><td>17</td><td>22</td></tr>\n",
       "\t<tr><td>3 </td><td> 8</td><td>13</td><td>18</td><td>23</td></tr>\n",
       "\t<tr><td>4 </td><td> 9</td><td>14</td><td>19</td><td>24</td></tr>\n",
       "\t<tr><td>5 </td><td>10</td><td>15</td><td>20</td><td>25</td></tr>\n",
       "</tbody>\n",
       "</table>\n"
      ],
      "text/latex": [
       "\\begin{tabular}{lllll}\n",
       "\t 1  &  6 & 11 & 16 & 21\\\\\n",
       "\t 2  &  7 & 12 & 17 & 22\\\\\n",
       "\t 3  &  8 & 13 & 18 & 23\\\\\n",
       "\t 4  &  9 & 14 & 19 & 24\\\\\n",
       "\t 5  & 10 & 15 & 20 & 25\\\\\n",
       "\\end{tabular}\n"
      ],
      "text/markdown": [
       "1. 1\n",
       "2. 2\n",
       "3. 3\n",
       "4. 4\n",
       "5. 5\n",
       "6. 6\n",
       "7. 7\n",
       "8. 8\n",
       "9. 9\n",
       "10. 10\n",
       "11. 11\n",
       "12. 12\n",
       "13. 13\n",
       "14. 14\n",
       "15. 15\n",
       "16. 16\n",
       "17. 17\n",
       "18. 18\n",
       "19. 19\n",
       "20. 20\n",
       "21. 21\n",
       "22. 22\n",
       "23. 23\n",
       "24. 24\n",
       "25. 25\n",
       "\n",
       "\n"
      ],
      "text/plain": [
       "     [,1] [,2] [,3] [,4] [,5]\n",
       "[1,] 1     6   11   16   21  \n",
       "[2,] 2     7   12   17   22  \n",
       "[3,] 3     8   13   18   23  \n",
       "[4,] 4     9   14   19   24  \n",
       "[5,] 5    10   15   20   25  "
      ]
     },
     "metadata": {},
     "output_type": "display_data"
    }
   ],
   "source": [
    "m1<- matrix(1:25,5,5)\n",
    "m1"
   ]
  },
  {
   "cell_type": "code",
   "execution_count": 21,
   "metadata": {
    "collapsed": false,
    "vscode": {
     "languageId": "r"
    }
   },
   "outputs": [
    {
     "name": "stdout",
     "output_type": "stream",
     "text": [
      " int [1:5, 1:5] 1 2 3 4 5 6 7 8 9 10 ...\n"
     ]
    }
   ],
   "source": [
    "str(m1)"
   ]
  },
  {
   "cell_type": "code",
   "execution_count": 22,
   "metadata": {
    "collapsed": false,
    "vscode": {
     "languageId": "r"
    }
   },
   "outputs": [
    {
     "data": {
      "text/html": [
       "TRUE"
      ],
      "text/latex": [
       "TRUE"
      ],
      "text/markdown": [
       "TRUE"
      ],
      "text/plain": [
       "[1] TRUE"
      ]
     },
     "metadata": {},
     "output_type": "display_data"
    }
   ],
   "source": [
    "is.matrix(m1)"
   ]
  },
  {
   "cell_type": "code",
   "execution_count": 23,
   "metadata": {
    "collapsed": false,
    "vscode": {
     "languageId": "r"
    }
   },
   "outputs": [
    {
     "data": {
      "text/html": [
       "FALSE"
      ],
      "text/latex": [
       "FALSE"
      ],
      "text/markdown": [
       "FALSE"
      ],
      "text/plain": [
       "[1] FALSE"
      ]
     },
     "metadata": {},
     "output_type": "display_data"
    }
   ],
   "source": [
    "is.data.frame(m1)"
   ]
  },
  {
   "cell_type": "code",
   "execution_count": 24,
   "metadata": {
    "collapsed": false,
    "vscode": {
     "languageId": "r"
    }
   },
   "outputs": [
    {
     "data": {
      "text/html": [
       "<table>\n",
       "<thead><tr><th scope=col>V1</th><th scope=col>V2</th><th scope=col>V3</th><th scope=col>V4</th><th scope=col>V5</th></tr></thead>\n",
       "<tbody>\n",
       "\t<tr><td>1 </td><td> 6</td><td>11</td><td>16</td><td>21</td></tr>\n",
       "\t<tr><td>2 </td><td> 7</td><td>12</td><td>17</td><td>22</td></tr>\n",
       "\t<tr><td>3 </td><td> 8</td><td>13</td><td>18</td><td>23</td></tr>\n",
       "\t<tr><td>4 </td><td> 9</td><td>14</td><td>19</td><td>24</td></tr>\n",
       "\t<tr><td>5 </td><td>10</td><td>15</td><td>20</td><td>25</td></tr>\n",
       "</tbody>\n",
       "</table>\n"
      ],
      "text/latex": [
       "\\begin{tabular}{r|lllll}\n",
       " V1 & V2 & V3 & V4 & V5\\\\\n",
       "\\hline\n",
       "\t 1  &  6 & 11 & 16 & 21\\\\\n",
       "\t 2  &  7 & 12 & 17 & 22\\\\\n",
       "\t 3  &  8 & 13 & 18 & 23\\\\\n",
       "\t 4  &  9 & 14 & 19 & 24\\\\\n",
       "\t 5  & 10 & 15 & 20 & 25\\\\\n",
       "\\end{tabular}\n"
      ],
      "text/plain": [
       "  V1 V2 V3 V4 V5\n",
       "1 1   6 11 16 21\n",
       "2 2   7 12 17 22\n",
       "3 3   8 13 18 23\n",
       "4 4   9 14 19 24\n",
       "5 5  10 15 20 25"
      ]
     },
     "metadata": {},
     "output_type": "display_data"
    }
   ],
   "source": [
    "df1 <- as.data.frame(m1)\n",
    "df1"
   ]
  },
  {
   "cell_type": "code",
   "execution_count": 25,
   "metadata": {
    "collapsed": false,
    "vscode": {
     "languageId": "r"
    }
   },
   "outputs": [
    {
     "name": "stdout",
     "output_type": "stream",
     "text": [
      "'data.frame':\t5 obs. of  5 variables:\n",
      " $ V1: int  1 2 3 4 5\n",
      " $ V2: int  6 7 8 9 10\n",
      " $ V3: int  11 12 13 14 15\n",
      " $ V4: int  16 17 18 19 20\n",
      " $ V5: int  21 22 23 24 25\n"
     ]
    }
   ],
   "source": [
    "str(df1)"
   ]
  },
  {
   "cell_type": "code",
   "execution_count": 27,
   "metadata": {
    "collapsed": false,
    "vscode": {
     "languageId": "r"
    }
   },
   "outputs": [
    {
     "name": "stdout",
     "output_type": "stream",
     "text": [
      "[1] \"the size of df1 is  1264  bytes and the size of m1 is  328  bytes\"\n"
     ]
    }
   ],
   "source": [
    "#The object.size commands indicate how much memory of data take up in the computer\n",
    "print(paste(\"the size of df1 is \", object.size(df1), \" bytes and the size of m1 is \", object.size(m1), \" bytes\" ))"
   ]
  },
  {
   "cell_type": "markdown",
   "metadata": {},
   "source": [
    "## 3.3 Reading and Writing Data in R\n",
    "Generally we read data from a file. In this unit we will focus on reading .txt (tab delimitted) and .csv (comma separated values) data files. In all cases, we will read a data file into a dataframe. That's why being able to manipulate a dataframe is very important. You need to make sure that either the data file exists in your current working director, or you give a path to find the location of the file. Other than providing the name of the file, you would enter a sequence of parameters. please see ?read.table or ?read.csv to get an idea. \n",
    "\n",
    "* __read.table()__ to read a .txt data file, and read.csv() for .csv files\n",
    "* source() to bring .r files and make the code inside the file available\n",
    "* write.table(), write.csv() to export data into a file.\n",
    "\n",
    "mydata <- read.table(\"c:/mydata.csv\", header=TRUE, sep=\",\", row.names=\"id\")\n",
    "\n",
    "After working with a dataset, we might like to save it. \n",
    "\n",
    "write.table(mydata, \"c:/mydata.txt\", sep=\"\\t\")\n",
    "\n",
    "Important parameters\n",
    "* hearder=TRUE the first row is the header\n",
    "* sep=\"\\t\" tab delimitted\n",
    "* sep=\",\"\n",
    "* "
   ]
  },
  {
   "cell_type": "code",
   "execution_count": 30,
   "metadata": {
    "collapsed": false,
    "vscode": {
     "languageId": "r"
    }
   },
   "outputs": [
    {
     "data": {
      "text/html": [
       "'/srv/home/asefn/ReDevFIT5197'"
      ],
      "text/latex": [
       "'/srv/home/asefn/ReDevFIT5197'"
      ],
      "text/markdown": [
       "'/srv/home/asefn/ReDevFIT5197'"
      ],
      "text/plain": [
       "[1] \"/srv/home/asefn/ReDevFIT5197\""
      ]
     },
     "metadata": {},
     "output_type": "display_data"
    }
   ],
   "source": [
    "getwd() #gives you the current working directory\n",
    "#pay attention to the way that a directory is represented in your OS"
   ]
  },
  {
   "cell_type": "code",
   "execution_count": 31,
   "metadata": {
    "collapsed": false,
    "vscode": {
     "languageId": "r"
    }
   },
   "outputs": [
    {
     "data": {
      "text/html": [
       "<ol class=list-inline>\n",
       "\t<li>'airfoil_self_noise.txt'</li>\n",
       "\t<li>'avgpm25.csv'</li>\n",
       "\t<li>'GoogleTrends.csv'</li>\n",
       "\t<li>'GoogleTrends.txt'</li>\n",
       "\t<li>'Inro5.ipynb'</li>\n",
       "\t<li>'Intro3.ipynb'</li>\n",
       "\t<li>'Loops.ipynb'</li>\n",
       "\t<li>'Lynda.ipynb'</li>\n",
       "\t<li>'myplot.pdf'</li>\n",
       "\t<li>'ProteinTertiary.csv'</li>\n",
       "\t<li>'R0001.ipynb'</li>\n",
       "\t<li>'R0002.ipynb'</li>\n",
       "\t<li>'R0003.ipynb'</li>\n",
       "\t<li>'R000-MarkDownPractice.ipynb'</li>\n",
       "\t<li>'R_intro2.ipynb'</li>\n",
       "\t<li>'R_intro.ipynb'</li>\n",
       "\t<li>'Untitled.ipynb'</li>\n",
       "\t<li>'workingDirectory'</li>\n",
       "</ol>\n"
      ],
      "text/latex": [
       "\\begin{enumerate*}\n",
       "\\item 'airfoil\\_self\\_noise.txt'\n",
       "\\item 'avgpm25.csv'\n",
       "\\item 'GoogleTrends.csv'\n",
       "\\item 'GoogleTrends.txt'\n",
       "\\item 'Inro5.ipynb'\n",
       "\\item 'Intro3.ipynb'\n",
       "\\item 'Loops.ipynb'\n",
       "\\item 'Lynda.ipynb'\n",
       "\\item 'myplot.pdf'\n",
       "\\item 'ProteinTertiary.csv'\n",
       "\\item 'R0001.ipynb'\n",
       "\\item 'R0002.ipynb'\n",
       "\\item 'R0003.ipynb'\n",
       "\\item 'R000-MarkDownPractice.ipynb'\n",
       "\\item 'R\\_intro2.ipynb'\n",
       "\\item 'R\\_intro.ipynb'\n",
       "\\item 'Untitled.ipynb'\n",
       "\\item 'workingDirectory'\n",
       "\\end{enumerate*}\n"
      ],
      "text/markdown": [
       "1. 'airfoil_self_noise.txt'\n",
       "2. 'avgpm25.csv'\n",
       "3. 'GoogleTrends.csv'\n",
       "4. 'GoogleTrends.txt'\n",
       "5. 'Inro5.ipynb'\n",
       "6. 'Intro3.ipynb'\n",
       "7. 'Loops.ipynb'\n",
       "8. 'Lynda.ipynb'\n",
       "9. 'myplot.pdf'\n",
       "10. 'ProteinTertiary.csv'\n",
       "11. 'R0001.ipynb'\n",
       "12. 'R0002.ipynb'\n",
       "13. 'R0003.ipynb'\n",
       "14. 'R000-MarkDownPractice.ipynb'\n",
       "15. 'R_intro2.ipynb'\n",
       "16. 'R_intro.ipynb'\n",
       "17. 'Untitled.ipynb'\n",
       "18. 'workingDirectory'\n",
       "\n",
       "\n"
      ],
      "text/plain": [
       " [1] \"airfoil_self_noise.txt\"      \"avgpm25.csv\"                \n",
       " [3] \"GoogleTrends.csv\"            \"GoogleTrends.txt\"           \n",
       " [5] \"Inro5.ipynb\"                 \"Intro3.ipynb\"               \n",
       " [7] \"Loops.ipynb\"                 \"Lynda.ipynb\"                \n",
       " [9] \"myplot.pdf\"                  \"ProteinTertiary.csv\"        \n",
       "[11] \"R0001.ipynb\"                 \"R0002.ipynb\"                \n",
       "[13] \"R0003.ipynb\"                 \"R000-MarkDownPractice.ipynb\"\n",
       "[15] \"R_intro2.ipynb\"              \"R_intro.ipynb\"              \n",
       "[17] \"Untitled.ipynb\"              \"workingDirectory\"           "
      ]
     },
     "metadata": {},
     "output_type": "display_data"
    }
   ],
   "source": [
    "dir() # a list of files and folders"
   ]
  },
  {
   "cell_type": "code",
   "execution_count": 10,
   "metadata": {
    "collapsed": true,
    "vscode": {
     "languageId": "r"
    }
   },
   "outputs": [],
   "source": [
    "data <- read.table(file='airfoil_self_noise.txt')"
   ]
  },
  {
   "cell_type": "code",
   "execution_count": 33,
   "metadata": {
    "collapsed": false,
    "vscode": {
     "languageId": "r"
    }
   },
   "outputs": [
    {
     "name": "stdout",
     "output_type": "stream",
     "text": [
      "'data.frame':\t1503 obs. of  6 variables:\n",
      " $ V1: int  800 1000 1250 1600 2000 2500 3150 4000 5000 6300 ...\n",
      " $ V2: num  0 0 0 0 0 0 0 0 0 0 ...\n",
      " $ V3: num  0.305 0.305 0.305 0.305 0.305 ...\n",
      " $ V4: num  71.3 71.3 71.3 71.3 71.3 71.3 71.3 71.3 71.3 71.3 ...\n",
      " $ V5: num  0.00266 0.00266 0.00266 0.00266 0.00266 ...\n",
      " $ V6: num  126 125 126 128 127 ...\n"
     ]
    }
   ],
   "source": [
    "str(data)"
   ]
  },
  {
   "cell_type": "code",
   "execution_count": 12,
   "metadata": {
    "collapsed": false,
    "vscode": {
     "languageId": "r"
    }
   },
   "outputs": [
    {
     "data": {
      "text/html": [
       "<ol class=list-inline>\n",
       "\t<li>1503</li>\n",
       "\t<li>6</li>\n",
       "</ol>\n"
      ],
      "text/latex": [
       "\\begin{enumerate*}\n",
       "\\item 1503\n",
       "\\item 6\n",
       "\\end{enumerate*}\n"
      ],
      "text/markdown": [
       "1. 1503\n",
       "2. 6\n",
       "\n",
       "\n"
      ],
      "text/plain": [
       "[1] 1503    6"
      ]
     },
     "metadata": {},
     "output_type": "display_data"
    },
    {
     "data": {
      "text/html": [
       "<table>\n",
       "<thead><tr><th scope=col>V1</th><th scope=col>V2</th><th scope=col>V3</th><th scope=col>V4</th><th scope=col>V5</th><th scope=col>V6</th></tr></thead>\n",
       "<tbody>\n",
       "\t<tr><td> 800      </td><td>0         </td><td>0.3048    </td><td>71.3      </td><td>0.00266337</td><td>126.201   </td></tr>\n",
       "\t<tr><td>1000      </td><td>0         </td><td>0.3048    </td><td>71.3      </td><td>0.00266337</td><td>125.201   </td></tr>\n",
       "\t<tr><td>1250      </td><td>0         </td><td>0.3048    </td><td>71.3      </td><td>0.00266337</td><td>125.951   </td></tr>\n",
       "\t<tr><td>1600      </td><td>0         </td><td>0.3048    </td><td>71.3      </td><td>0.00266337</td><td>127.591   </td></tr>\n",
       "\t<tr><td>2000      </td><td>0         </td><td>0.3048    </td><td>71.3      </td><td>0.00266337</td><td>127.461   </td></tr>\n",
       "\t<tr><td>2500      </td><td>0         </td><td>0.3048    </td><td>71.3      </td><td>0.00266337</td><td>125.571   </td></tr>\n",
       "</tbody>\n",
       "</table>\n"
      ],
      "text/latex": [
       "\\begin{tabular}{r|llllll}\n",
       " V1 & V2 & V3 & V4 & V5 & V6\\\\\n",
       "\\hline\n",
       "\t  800       & 0          & 0.3048     & 71.3       & 0.00266337 & 126.201   \\\\\n",
       "\t 1000       & 0          & 0.3048     & 71.3       & 0.00266337 & 125.201   \\\\\n",
       "\t 1250       & 0          & 0.3048     & 71.3       & 0.00266337 & 125.951   \\\\\n",
       "\t 1600       & 0          & 0.3048     & 71.3       & 0.00266337 & 127.591   \\\\\n",
       "\t 2000       & 0          & 0.3048     & 71.3       & 0.00266337 & 127.461   \\\\\n",
       "\t 2500       & 0          & 0.3048     & 71.3       & 0.00266337 & 125.571   \\\\\n",
       "\\end{tabular}\n"
      ],
      "text/plain": [
       "  V1   V2 V3     V4   V5         V6     \n",
       "1  800 0  0.3048 71.3 0.00266337 126.201\n",
       "2 1000 0  0.3048 71.3 0.00266337 125.201\n",
       "3 1250 0  0.3048 71.3 0.00266337 125.951\n",
       "4 1600 0  0.3048 71.3 0.00266337 127.591\n",
       "5 2000 0  0.3048 71.3 0.00266337 127.461\n",
       "6 2500 0  0.3048 71.3 0.00266337 125.571"
      ]
     },
     "metadata": {},
     "output_type": "display_data"
    }
   ],
   "source": [
    "dim(data)\n",
    "head(data)"
   ]
  },
  {
   "cell_type": "code",
   "execution_count": 1,
   "metadata": {
    "collapsed": true,
    "vscode": {
     "languageId": "r"
    }
   },
   "outputs": [],
   "source": [
    "data2 <- read.csv('ProteinTertiary.csv')"
   ]
  },
  {
   "cell_type": "code",
   "execution_count": 2,
   "metadata": {
    "collapsed": false,
    "vscode": {
     "languageId": "r"
    }
   },
   "outputs": [
    {
     "name": "stdout",
     "output_type": "stream",
     "text": [
      "'data.frame':\t45730 obs. of  11 variables:\n",
      " $ X  : int  1 2 3 4 5 6 7 8 9 10 ...\n",
      " $ V1 : num  17.28 6.02 9.28 15.85 7.96 ...\n",
      " $ V2 : num  13558 6192 7726 8425 7461 ...\n",
      " $ V3 : num  4305 1623 1726 2368 1737 ...\n",
      " $ V4 : num  0.318 0.262 0.223 0.281 0.233 ...\n",
      " $ V5 : num  162.2 53.4 67.3 67.8 52.4 ...\n",
      " $ V6 : num  1872791 803447 1075648 1210472 1021020 ...\n",
      " $ V7 : num  215.4 87.2 81.8 109.4 94.5 ...\n",
      " $ V8 : num  4288 3329 2981 3248 2814 ...\n",
      " $ V9 : int  102 39 29 70 41 15 70 74 39 26 ...\n",
      " $ V10: num  27 38.5 38.8 39.1 39.9 ...\n"
     ]
    }
   ],
   "source": [
    "str(data2)"
   ]
  },
  {
   "cell_type": "code",
   "execution_count": 3,
   "metadata": {
    "collapsed": false,
    "vscode": {
     "languageId": "r"
    }
   },
   "outputs": [],
   "source": [
    "a <- data2[1:5,1:5]"
   ]
  },
  {
   "cell_type": "code",
   "execution_count": 4,
   "metadata": {
    "collapsed": false,
    "vscode": {
     "languageId": "r"
    }
   },
   "outputs": [
    {
     "data": {
      "text/html": [
       "<table>\n",
       "<thead><tr><th scope=col>X</th><th scope=col>V1</th><th scope=col>V2</th><th scope=col>V3</th><th scope=col>V4</th></tr></thead>\n",
       "<tbody>\n",
       "\t<tr><td>1       </td><td>17.284  </td><td>13558.30</td><td>4305.35 </td><td>0.31754 </td></tr>\n",
       "\t<tr><td>2       </td><td> 6.021  </td><td> 6191.96</td><td>1623.16 </td><td>0.26213 </td></tr>\n",
       "\t<tr><td>3       </td><td> 9.275  </td><td> 7725.98</td><td>1726.28 </td><td>0.22343 </td></tr>\n",
       "\t<tr><td>4       </td><td>15.851  </td><td> 8424.58</td><td>2368.25 </td><td>0.28111 </td></tr>\n",
       "\t<tr><td>5       </td><td> 7.962  </td><td> 7460.84</td><td>1736.94 </td><td>0.23280 </td></tr>\n",
       "</tbody>\n",
       "</table>\n"
      ],
      "text/latex": [
       "\\begin{tabular}{r|lllll}\n",
       " X & V1 & V2 & V3 & V4\\\\\n",
       "\\hline\n",
       "\t 1        & 17.284   & 13558.30 & 4305.35  & 0.31754 \\\\\n",
       "\t 2        &  6.021   &  6191.96 & 1623.16  & 0.26213 \\\\\n",
       "\t 3        &  9.275   &  7725.98 & 1726.28  & 0.22343 \\\\\n",
       "\t 4        & 15.851   &  8424.58 & 2368.25  & 0.28111 \\\\\n",
       "\t 5        &  7.962   &  7460.84 & 1736.94  & 0.23280 \\\\\n",
       "\\end{tabular}\n"
      ],
      "text/plain": [
       "  X V1     V2       V3      V4     \n",
       "1 1 17.284 13558.30 4305.35 0.31754\n",
       "2 2  6.021  6191.96 1623.16 0.26213\n",
       "3 3  9.275  7725.98 1726.28 0.22343\n",
       "4 4 15.851  8424.58 2368.25 0.28111\n",
       "5 5  7.962  7460.84 1736.94 0.23280"
      ]
     },
     "metadata": {},
     "output_type": "display_data"
    }
   ],
   "source": [
    "a"
   ]
  },
  {
   "cell_type": "code",
   "execution_count": 5,
   "metadata": {
    "collapsed": false,
    "vscode": {
     "languageId": "r"
    }
   },
   "outputs": [
    {
     "name": "stdout",
     "output_type": "stream",
     "text": [
      "'data.frame':\t5 obs. of  5 variables:\n",
      " $ X : int  1 2 3 4 5\n",
      " $ V1: num  17.28 6.02 9.28 15.85 7.96\n",
      " $ V2: num  13558 6192 7726 8425 7461\n",
      " $ V3: num  4305 1623 1726 2368 1737\n",
      " $ V4: num  0.318 0.262 0.223 0.281 0.233\n"
     ]
    }
   ],
   "source": [
    "str(a)"
   ]
  },
  {
   "cell_type": "code",
   "execution_count": 6,
   "metadata": {
    "collapsed": false,
    "vscode": {
     "languageId": "r"
    }
   },
   "outputs": [],
   "source": [
    "write.csv(a, file=\"mydata.csv\")"
   ]
  },
  {
   "cell_type": "code",
   "execution_count": 7,
   "metadata": {
    "collapsed": false,
    "vscode": {
     "languageId": "r"
    }
   },
   "outputs": [
    {
     "data": {
      "text/html": [
       "<ol class=list-inline>\n",
       "\t<li>'airfoil_self_noise.txt'</li>\n",
       "\t<li>'avgpm25.csv'</li>\n",
       "\t<li>'Data8'</li>\n",
       "\t<li>'GoogleTrends.csv'</li>\n",
       "\t<li>'GoogleTrends.txt'</li>\n",
       "\t<li>'Inro5.ipynb'</li>\n",
       "\t<li>'Intro3.ipynb'</li>\n",
       "\t<li>'Loops.ipynb'</li>\n",
       "\t<li>'LYNDA1-DataSetsR.ipynb'</li>\n",
       "\t<li>'LYNDA2-HT.ipynb'</li>\n",
       "\t<li>'LYNDA2.ipynb'</li>\n",
       "\t<li>'Lynda.ipynb'</li>\n",
       "\t<li>'mydata.csv'</li>\n",
       "\t<li>'myplot.pdf'</li>\n",
       "\t<li>'ProteinTertiary.csv'</li>\n",
       "\t<li>'R0001.ipynb'</li>\n",
       "\t<li>'R0002.ipynb'</li>\n",
       "\t<li>'R0003.ipynb'</li>\n",
       "\t<li>'R0004.ipynb'</li>\n",
       "\t<li>'R0005.ipynb'</li>\n",
       "\t<li>'R0006.ipynb'</li>\n",
       "\t<li>'R0007.ipynb'</li>\n",
       "\t<li>'R000-MarkDownPractice.ipynb'</li>\n",
       "\t<li>'R_intro2.ipynb'</li>\n",
       "\t<li>'R_intro.ipynb'</li>\n",
       "\t<li>'Untitled.ipynb'</li>\n",
       "\t<li>'workingDirectory'</li>\n",
       "</ol>\n"
      ],
      "text/latex": [
       "\\begin{enumerate*}\n",
       "\\item 'airfoil\\_self\\_noise.txt'\n",
       "\\item 'avgpm25.csv'\n",
       "\\item 'Data8'\n",
       "\\item 'GoogleTrends.csv'\n",
       "\\item 'GoogleTrends.txt'\n",
       "\\item 'Inro5.ipynb'\n",
       "\\item 'Intro3.ipynb'\n",
       "\\item 'Loops.ipynb'\n",
       "\\item 'LYNDA1-DataSetsR.ipynb'\n",
       "\\item 'LYNDA2-HT.ipynb'\n",
       "\\item 'LYNDA2.ipynb'\n",
       "\\item 'Lynda.ipynb'\n",
       "\\item 'mydata.csv'\n",
       "\\item 'myplot.pdf'\n",
       "\\item 'ProteinTertiary.csv'\n",
       "\\item 'R0001.ipynb'\n",
       "\\item 'R0002.ipynb'\n",
       "\\item 'R0003.ipynb'\n",
       "\\item 'R0004.ipynb'\n",
       "\\item 'R0005.ipynb'\n",
       "\\item 'R0006.ipynb'\n",
       "\\item 'R0007.ipynb'\n",
       "\\item 'R000-MarkDownPractice.ipynb'\n",
       "\\item 'R\\_intro2.ipynb'\n",
       "\\item 'R\\_intro.ipynb'\n",
       "\\item 'Untitled.ipynb'\n",
       "\\item 'workingDirectory'\n",
       "\\end{enumerate*}\n"
      ],
      "text/markdown": [
       "1. 'airfoil_self_noise.txt'\n",
       "2. 'avgpm25.csv'\n",
       "3. 'Data8'\n",
       "4. 'GoogleTrends.csv'\n",
       "5. 'GoogleTrends.txt'\n",
       "6. 'Inro5.ipynb'\n",
       "7. 'Intro3.ipynb'\n",
       "8. 'Loops.ipynb'\n",
       "9. 'LYNDA1-DataSetsR.ipynb'\n",
       "10. 'LYNDA2-HT.ipynb'\n",
       "11. 'LYNDA2.ipynb'\n",
       "12. 'Lynda.ipynb'\n",
       "13. 'mydata.csv'\n",
       "14. 'myplot.pdf'\n",
       "15. 'ProteinTertiary.csv'\n",
       "16. 'R0001.ipynb'\n",
       "17. 'R0002.ipynb'\n",
       "18. 'R0003.ipynb'\n",
       "19. 'R0004.ipynb'\n",
       "20. 'R0005.ipynb'\n",
       "21. 'R0006.ipynb'\n",
       "22. 'R0007.ipynb'\n",
       "23. 'R000-MarkDownPractice.ipynb'\n",
       "24. 'R_intro2.ipynb'\n",
       "25. 'R_intro.ipynb'\n",
       "26. 'Untitled.ipynb'\n",
       "27. 'workingDirectory'\n",
       "\n",
       "\n"
      ],
      "text/plain": [
       " [1] \"airfoil_self_noise.txt\"      \"avgpm25.csv\"                \n",
       " [3] \"Data8\"                       \"GoogleTrends.csv\"           \n",
       " [5] \"GoogleTrends.txt\"            \"Inro5.ipynb\"                \n",
       " [7] \"Intro3.ipynb\"                \"Loops.ipynb\"                \n",
       " [9] \"LYNDA1-DataSetsR.ipynb\"      \"LYNDA2-HT.ipynb\"            \n",
       "[11] \"LYNDA2.ipynb\"                \"Lynda.ipynb\"                \n",
       "[13] \"mydata.csv\"                  \"myplot.pdf\"                 \n",
       "[15] \"ProteinTertiary.csv\"         \"R0001.ipynb\"                \n",
       "[17] \"R0002.ipynb\"                 \"R0003.ipynb\"                \n",
       "[19] \"R0004.ipynb\"                 \"R0005.ipynb\"                \n",
       "[21] \"R0006.ipynb\"                 \"R0007.ipynb\"                \n",
       "[23] \"R000-MarkDownPractice.ipynb\" \"R_intro2.ipynb\"             \n",
       "[25] \"R_intro.ipynb\"               \"Untitled.ipynb\"             \n",
       "[27] \"workingDirectory\"           "
      ]
     },
     "metadata": {},
     "output_type": "display_data"
    }
   ],
   "source": [
    "dir()"
   ]
  },
  {
   "cell_type": "code",
   "execution_count": 8,
   "metadata": {
    "collapsed": true,
    "vscode": {
     "languageId": "r"
    }
   },
   "outputs": [],
   "source": [
    "write.table(a, file=\"mydata222.txt\")"
   ]
  },
  {
   "cell_type": "code",
   "execution_count": 9,
   "metadata": {
    "collapsed": false,
    "vscode": {
     "languageId": "r"
    }
   },
   "outputs": [
    {
     "data": {
      "text/html": [
       "<ol class=list-inline>\n",
       "\t<li>'airfoil_self_noise.txt'</li>\n",
       "\t<li>'avgpm25.csv'</li>\n",
       "\t<li>'Data8'</li>\n",
       "\t<li>'GoogleTrends.csv'</li>\n",
       "\t<li>'GoogleTrends.txt'</li>\n",
       "\t<li>'Inro5.ipynb'</li>\n",
       "\t<li>'Intro3.ipynb'</li>\n",
       "\t<li>'Loops.ipynb'</li>\n",
       "\t<li>'LYNDA1-DataSetsR.ipynb'</li>\n",
       "\t<li>'LYNDA2-HT.ipynb'</li>\n",
       "\t<li>'LYNDA2.ipynb'</li>\n",
       "\t<li>'Lynda.ipynb'</li>\n",
       "\t<li>'mydata222.txt'</li>\n",
       "\t<li>'mydata.csv'</li>\n",
       "\t<li>'myplot.pdf'</li>\n",
       "\t<li>'ProteinTertiary.csv'</li>\n",
       "\t<li>'R0001.ipynb'</li>\n",
       "\t<li>'R0002.ipynb'</li>\n",
       "\t<li>'R0003.ipynb'</li>\n",
       "\t<li>'R0004.ipynb'</li>\n",
       "\t<li>'R0005.ipynb'</li>\n",
       "\t<li>'R0006.ipynb'</li>\n",
       "\t<li>'R0007.ipynb'</li>\n",
       "\t<li>'R000-MarkDownPractice.ipynb'</li>\n",
       "\t<li>'R_intro2.ipynb'</li>\n",
       "\t<li>'R_intro.ipynb'</li>\n",
       "\t<li>'Untitled.ipynb'</li>\n",
       "\t<li>'workingDirectory'</li>\n",
       "</ol>\n"
      ],
      "text/latex": [
       "\\begin{enumerate*}\n",
       "\\item 'airfoil\\_self\\_noise.txt'\n",
       "\\item 'avgpm25.csv'\n",
       "\\item 'Data8'\n",
       "\\item 'GoogleTrends.csv'\n",
       "\\item 'GoogleTrends.txt'\n",
       "\\item 'Inro5.ipynb'\n",
       "\\item 'Intro3.ipynb'\n",
       "\\item 'Loops.ipynb'\n",
       "\\item 'LYNDA1-DataSetsR.ipynb'\n",
       "\\item 'LYNDA2-HT.ipynb'\n",
       "\\item 'LYNDA2.ipynb'\n",
       "\\item 'Lynda.ipynb'\n",
       "\\item 'mydata222.txt'\n",
       "\\item 'mydata.csv'\n",
       "\\item 'myplot.pdf'\n",
       "\\item 'ProteinTertiary.csv'\n",
       "\\item 'R0001.ipynb'\n",
       "\\item 'R0002.ipynb'\n",
       "\\item 'R0003.ipynb'\n",
       "\\item 'R0004.ipynb'\n",
       "\\item 'R0005.ipynb'\n",
       "\\item 'R0006.ipynb'\n",
       "\\item 'R0007.ipynb'\n",
       "\\item 'R000-MarkDownPractice.ipynb'\n",
       "\\item 'R\\_intro2.ipynb'\n",
       "\\item 'R\\_intro.ipynb'\n",
       "\\item 'Untitled.ipynb'\n",
       "\\item 'workingDirectory'\n",
       "\\end{enumerate*}\n"
      ],
      "text/markdown": [
       "1. 'airfoil_self_noise.txt'\n",
       "2. 'avgpm25.csv'\n",
       "3. 'Data8'\n",
       "4. 'GoogleTrends.csv'\n",
       "5. 'GoogleTrends.txt'\n",
       "6. 'Inro5.ipynb'\n",
       "7. 'Intro3.ipynb'\n",
       "8. 'Loops.ipynb'\n",
       "9. 'LYNDA1-DataSetsR.ipynb'\n",
       "10. 'LYNDA2-HT.ipynb'\n",
       "11. 'LYNDA2.ipynb'\n",
       "12. 'Lynda.ipynb'\n",
       "13. 'mydata222.txt'\n",
       "14. 'mydata.csv'\n",
       "15. 'myplot.pdf'\n",
       "16. 'ProteinTertiary.csv'\n",
       "17. 'R0001.ipynb'\n",
       "18. 'R0002.ipynb'\n",
       "19. 'R0003.ipynb'\n",
       "20. 'R0004.ipynb'\n",
       "21. 'R0005.ipynb'\n",
       "22. 'R0006.ipynb'\n",
       "23. 'R0007.ipynb'\n",
       "24. 'R000-MarkDownPractice.ipynb'\n",
       "25. 'R_intro2.ipynb'\n",
       "26. 'R_intro.ipynb'\n",
       "27. 'Untitled.ipynb'\n",
       "28. 'workingDirectory'\n",
       "\n",
       "\n"
      ],
      "text/plain": [
       " [1] \"airfoil_self_noise.txt\"      \"avgpm25.csv\"                \n",
       " [3] \"Data8\"                       \"GoogleTrends.csv\"           \n",
       " [5] \"GoogleTrends.txt\"            \"Inro5.ipynb\"                \n",
       " [7] \"Intro3.ipynb\"                \"Loops.ipynb\"                \n",
       " [9] \"LYNDA1-DataSetsR.ipynb\"      \"LYNDA2-HT.ipynb\"            \n",
       "[11] \"LYNDA2.ipynb\"                \"Lynda.ipynb\"                \n",
       "[13] \"mydata222.txt\"               \"mydata.csv\"                 \n",
       "[15] \"myplot.pdf\"                  \"ProteinTertiary.csv\"        \n",
       "[17] \"R0001.ipynb\"                 \"R0002.ipynb\"                \n",
       "[19] \"R0003.ipynb\"                 \"R0004.ipynb\"                \n",
       "[21] \"R0005.ipynb\"                 \"R0006.ipynb\"                \n",
       "[23] \"R0007.ipynb\"                 \"R000-MarkDownPractice.ipynb\"\n",
       "[25] \"R_intro2.ipynb\"              \"R_intro.ipynb\"              \n",
       "[27] \"Untitled.ipynb\"              \"workingDirectory\"           "
      ]
     },
     "metadata": {},
     "output_type": "display_data"
    }
   ],
   "source": [
    "dir()"
   ]
  },
  {
   "cell_type": "code",
   "execution_count": null,
   "metadata": {
    "collapsed": false,
    "vscode": {
     "languageId": "r"
    }
   },
   "outputs": [],
   "source": []
  },
  {
   "cell_type": "code",
   "execution_count": 11,
   "metadata": {
    "collapsed": false,
    "vscode": {
     "languageId": "r"
    }
   },
   "outputs": [
    {
     "name": "stdout",
     "output_type": "stream",
     "text": [
      "'data.frame':\t16 obs. of  7 variables:\n",
      " $ GNP.deflator: num  83 88.5 88.2 89.5 96.2 ...\n",
      " $ GNP         : num  234 259 258 285 329 ...\n",
      " $ Unemployed  : num  236 232 368 335 210 ...\n",
      " $ Armed.Forces: num  159 146 162 165 310 ...\n",
      " $ Population  : num  108 109 110 111 112 ...\n",
      " $ Year        : int  1947 1948 1949 1950 1951 1952 1953 1954 1955 1956 ...\n",
      " $ Employed    : num  60.3 61.1 60.2 61.2 63.2 ...\n"
     ]
    }
   ],
   "source": [
    "str(longley)"
   ]
  },
  {
   "cell_type": "code",
   "execution_count": null,
   "metadata": {
    "collapsed": true,
    "vscode": {
     "languageId": "r"
    }
   },
   "outputs": [],
   "source": [
    "# Split up longley\n",
    "a1 <- longley[1:14, 1:6]  # Starting data\n",
    "a2 <- longley[1:14, 6:7]  # New column to add (with \"Year\" to match)\n",
    "b <- longley[15:16, ]     # New rows to add\n",
    "write.table(a1, \"~/Desktop/R/longley.a1.txt\", sep=\"\\t\")\n",
    "write.table(a2, \"~/Desktop/R/longley.a2.txt\", sep=\"\\t\")\n",
    "write.table(b, \"~/Desktop/R/longley.b.txt\", sep=\"\\t\")\n",
    "rm(list=ls()) # Clear out everything to start fresh\n",
    "\n",
    "# Import data\n",
    "a1t <- read.table(\"~/Desktop/R/longley.a1.txt\", sep=\"\\t\")\n",
    "a2t <- read.table(\"~/Desktop/R/longley.a2.txt\", sep=\"\\t\")"
   ]
  },
  {
   "cell_type": "markdown",
   "metadata": {},
   "source": [
    "## 3.4 Manageing your files\n",
    "* getwd(): to get the current working directory, inessence where you are now\n",
    "* setwd(): to change the working directory\n",
    "* dir(): gives youa list of all files and folders\n",
    "* ls(): list a exisiting variables"
   ]
  },
  {
   "cell_type": "code",
   "execution_count": 41,
   "metadata": {
    "collapsed": false,
    "vscode": {
     "languageId": "r"
    }
   },
   "outputs": [
    {
     "data": {
      "text/html": [
       "<pre class=language-r><code>function (...) \n",
       ".Internal(options(...))</code></pre>"
      ],
      "text/latex": [
       "\\begin{minted}{r}\n",
       "function (...) \n",
       ".Internal(options(...))\n",
       "\\end{minted}"
      ],
      "text/markdown": [
       "```r\n",
       "function (...) \n",
       ".Internal(options(...))\n",
       "```"
      ],
      "text/plain": [
       "function (...) \n",
       ".Internal(options(...))\n",
       "<bytecode: 0x19cd438>\n",
       "<environment: namespace:base>"
      ]
     },
     "metadata": {},
     "output_type": "display_data"
    }
   ],
   "source": [
    "#options() # gives you the setting of R. Most of its parameters are not changeable in jupyterhub"
   ]
  },
  {
   "cell_type": "code",
   "execution_count": null,
   "metadata": {
    "collapsed": true,
    "vscode": {
     "languageId": "r"
    }
   },
   "outputs": [],
   "source": []
  },
  {
   "cell_type": "code",
   "execution_count": null,
   "metadata": {
    "collapsed": true,
    "vscode": {
     "languageId": "r"
    }
   },
   "outputs": [],
   "source": []
  },
  {
   "cell_type": "code",
   "execution_count": null,
   "metadata": {
    "collapsed": true,
    "vscode": {
     "languageId": "r"
    }
   },
   "outputs": [],
   "source": []
  },
  {
   "cell_type": "markdown",
   "metadata": {
    "collapsed": true
   },
   "source": [
    "## 3.5 Built-in Datasets\n",
    "There plenty of interesting datasets already avaiable in R. Actually, there is a package, dataset, which is installed by default, and has many datasets inside. We will use these built-in datasets a lot."
   ]
  },
  {
   "cell_type": "code",
   "execution_count": 13,
   "metadata": {
    "collapsed": true,
    "vscode": {
     "languageId": "r"
    }
   },
   "outputs": [],
   "source": [
    "#To see a list of the available datasets\n",
    "data()"
   ]
  },
  {
   "cell_type": "code",
   "execution_count": 28,
   "metadata": {
    "collapsed": true,
    "vscode": {
     "languageId": "r"
    }
   },
   "outputs": [],
   "source": [
    "?airmailes"
   ]
  },
  {
   "cell_type": "code",
   "execution_count": 14,
   "metadata": {
    "collapsed": false,
    "vscode": {
     "languageId": "r"
    }
   },
   "outputs": [
    {
     "name": "stdout",
     "output_type": "stream",
     "text": [
      " Time-Series [1:24] from 1937 to 1960: 412 480 683 1052 1385 ...\n"
     ]
    }
   ],
   "source": [
    "str(airmiles)"
   ]
  },
  {
   "cell_type": "markdown",
   "metadata": {
    "collapsed": true
   },
   "source": [
    "## 3.6 Packages\n",
    "Packages are collections of R functions that are ready to use. \n",
    "* library()   # see all packages installed \n",
    "* search()    # see packages currently loaded\n",
    "* install.packages() to install a package. you don't need this in juoyterhub.\n",
    "* require() to load a pckage to use it"
   ]
  },
  {
   "cell_type": "code",
   "execution_count": 29,
   "metadata": {
    "collapsed": false,
    "vscode": {
     "languageId": "r"
    }
   },
   "outputs": [
    {
     "data": {
      "text/html": [
       "<ol class=list-inline>\n",
       "\t<li>'.GlobalEnv'</li>\n",
       "\t<li>'jupyter:irkernel'</li>\n",
       "\t<li>'package:stats'</li>\n",
       "\t<li>'package:graphics'</li>\n",
       "\t<li>'package:grDevices'</li>\n",
       "\t<li>'package:utils'</li>\n",
       "\t<li>'package:datasets'</li>\n",
       "\t<li>'package:methods'</li>\n",
       "\t<li>'Autoloads'</li>\n",
       "\t<li>'package:base'</li>\n",
       "</ol>\n"
      ],
      "text/latex": [
       "\\begin{enumerate*}\n",
       "\\item '.GlobalEnv'\n",
       "\\item 'jupyter:irkernel'\n",
       "\\item 'package:stats'\n",
       "\\item 'package:graphics'\n",
       "\\item 'package:grDevices'\n",
       "\\item 'package:utils'\n",
       "\\item 'package:datasets'\n",
       "\\item 'package:methods'\n",
       "\\item 'Autoloads'\n",
       "\\item 'package:base'\n",
       "\\end{enumerate*}\n"
      ],
      "text/markdown": [
       "1. '.GlobalEnv'\n",
       "2. 'jupyter:irkernel'\n",
       "3. 'package:stats'\n",
       "4. 'package:graphics'\n",
       "5. 'package:grDevices'\n",
       "6. 'package:utils'\n",
       "7. 'package:datasets'\n",
       "8. 'package:methods'\n",
       "9. 'Autoloads'\n",
       "10. 'package:base'\n",
       "\n",
       "\n"
      ],
      "text/plain": [
       " [1] \".GlobalEnv\"        \"jupyter:irkernel\"  \"package:stats\"    \n",
       " [4] \"package:graphics\"  \"package:grDevices\" \"package:utils\"    \n",
       " [7] \"package:datasets\"  \"package:methods\"   \"Autoloads\"        \n",
       "[10] \"package:base\"     "
      ]
     },
     "metadata": {},
     "output_type": "display_data"
    }
   ],
   "source": [
    "# See current packages\n",
    "search()   # Shows packages that are currently loaded"
   ]
  },
  {
   "cell_type": "code",
   "execution_count": 30,
   "metadata": {
    "collapsed": false,
    "vscode": {
     "languageId": "r"
    }
   },
   "outputs": [
    {
     "name": "stderr",
     "output_type": "stream",
     "text": [
      "Loading required package: ggplot2\n"
     ]
    }
   ],
   "source": [
    "# TO INSTALL AND USE PACKAGES\n",
    "# Can use menus: Tools > Install Packages... (or use Package window)\n",
    "# Or can use scripts, which can be saved in incorporated in source\n",
    "#install.packages(\"ggplot2\")  # Downloads package from CRAN and installs in R\n",
    "\n",
    "# Make package available; \n",
    "require(\"ggplot2\") "
   ]
  },
  {
   "cell_type": "markdown",
   "metadata": {},
   "source": [
    "## 3.7 Frequently used functions\n",
    "* length(object) # number of elements or components\n",
    "* str(object)    # structure of an object \n",
    "* class(object)  # class or type of an object\n",
    "* names(object)  # names\n",
    "* c(object,object,...)       # combine objects into a vector\n",
    "* cbind(object, object, ...) # combine objects as columns\n",
    "* rbind(object, object, ...) # combine objects as rows \n",
    "* ls()       # list current objects\n",
    "* rm(object) # delete an object\n",
    "* sort()"
   ]
  },
  {
   "cell_type": "code",
   "execution_count": 31,
   "metadata": {
    "collapsed": false,
    "vscode": {
     "languageId": "r"
    }
   },
   "outputs": [
    {
     "data": {
      "text/html": [
       "<ol class=list-inline>\n",
       "\t<li>2</li>\n",
       "\t<li>5</li>\n",
       "\t<li>3</li>\n",
       "\t<li>9</li>\n",
       "\t<li>4</li>\n",
       "\t<li>1</li>\n",
       "</ol>\n"
      ],
      "text/latex": [
       "\\begin{enumerate*}\n",
       "\\item 2\n",
       "\\item 5\n",
       "\\item 3\n",
       "\\item 9\n",
       "\\item 4\n",
       "\\item 1\n",
       "\\end{enumerate*}\n"
      ],
      "text/markdown": [
       "1. 2\n",
       "2. 5\n",
       "3. 3\n",
       "4. 9\n",
       "5. 4\n",
       "6. 1\n",
       "\n",
       "\n"
      ],
      "text/plain": [
       "[1] 2 5 3 9 4 1"
      ]
     },
     "metadata": {},
     "output_type": "display_data"
    },
    {
     "data": {
      "text/html": [
       "<ol class=list-inline>\n",
       "\t<li>1</li>\n",
       "\t<li>2</li>\n",
       "\t<li>3</li>\n",
       "\t<li>4</li>\n",
       "\t<li>5</li>\n",
       "\t<li>9</li>\n",
       "</ol>\n"
      ],
      "text/latex": [
       "\\begin{enumerate*}\n",
       "\\item 1\n",
       "\\item 2\n",
       "\\item 3\n",
       "\\item 4\n",
       "\\item 5\n",
       "\\item 9\n",
       "\\end{enumerate*}\n"
      ],
      "text/markdown": [
       "1. 1\n",
       "2. 2\n",
       "3. 3\n",
       "4. 4\n",
       "5. 5\n",
       "6. 9\n",
       "\n",
       "\n"
      ],
      "text/plain": [
       "[1] 1 2 3 4 5 9"
      ]
     },
     "metadata": {},
     "output_type": "display_data"
    },
    {
     "data": {
      "text/html": [
       "<ol class=list-inline>\n",
       "\t<li>9</li>\n",
       "\t<li>5</li>\n",
       "\t<li>4</li>\n",
       "\t<li>3</li>\n",
       "\t<li>2</li>\n",
       "\t<li>1</li>\n",
       "</ol>\n"
      ],
      "text/latex": [
       "\\begin{enumerate*}\n",
       "\\item 9\n",
       "\\item 5\n",
       "\\item 4\n",
       "\\item 3\n",
       "\\item 2\n",
       "\\item 1\n",
       "\\end{enumerate*}\n"
      ],
      "text/markdown": [
       "1. 9\n",
       "2. 5\n",
       "3. 4\n",
       "4. 3\n",
       "5. 2\n",
       "6. 1\n",
       "\n",
       "\n"
      ],
      "text/plain": [
       "[1] 9 5 4 3 2 1"
      ]
     },
     "metadata": {},
     "output_type": "display_data"
    }
   ],
   "source": [
    "# sort is another useful function\n",
    "x <- c(2,5,3,9,4,1)\n",
    "x\n",
    "sort(x, decreasing = FALSE)\n",
    "sort(x, decreasing = TRUE)"
   ]
  },
  {
   "cell_type": "code",
   "execution_count": null,
   "metadata": {
    "collapsed": true,
    "vscode": {
     "languageId": "r"
    }
   },
   "outputs": [],
   "source": []
  }
 ],
 "metadata": {
  "anaconda-cloud": {},
  "kernelspec": {
   "display_name": "R",
   "language": "R",
   "name": "ir"
  },
  "language_info": {
   "codemirror_mode": "r",
   "file_extension": ".r",
   "mimetype": "text/x-r-source",
   "name": "R",
   "pygments_lexer": "r",
   "version": "3.2.2"
  }
 },
 "nbformat": 4,
 "nbformat_minor": 0
}
