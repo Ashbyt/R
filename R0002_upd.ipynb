{
 "cells": [
  {
   "cell_type": "markdown",
   "metadata": {},
   "source": [
    "# 2. Data Types "
   ]
  },
  {
   "cell_type": "markdown",
   "metadata": {},
   "source": [
    "## 2.1 Main Data Classes\n",
    "\n",
    "R has five basic or “atomic” <span style=\"color:red\">classes</span> of objects:\n",
    "\n",
    "* numeric:\n",
    "  * double (real numbers): values like 2.3, 3.14, -5.7634 , ...\n",
    "  * integer: values like 0,1,2, -4, ...\n",
    "* character: values like \"GDDS\", 'exe'\n",
    "* logical: TRUE and FALSE (always capital letters)\n",
    "* complex: we have nothing to do with it in this unit."
   ]
  },
  {
   "cell_type": "code",
   "execution_count": 28,
   "metadata": {
    "collapsed": false,
    "vscode": {
     "languageId": "r"
    }
   },
   "outputs": [
    {
     "data": {
      "text/html": [
       "'double'"
      ],
      "text/latex": [
       "'double'"
      ],
      "text/markdown": [
       "'double'"
      ],
      "text/plain": [
       "[1] \"double\""
      ]
     },
     "metadata": {},
     "output_type": "display_data"
    },
    {
     "data": {
      "text/html": [
       "'integer'"
      ],
      "text/latex": [
       "'integer'"
      ],
      "text/markdown": [
       "'integer'"
      ],
      "text/plain": [
       "[1] \"integer\""
      ]
     },
     "metadata": {},
     "output_type": "display_data"
    },
    {
     "data": {
      "text/html": [
       "'double'"
      ],
      "text/latex": [
       "'double'"
      ],
      "text/markdown": [
       "'double'"
      ],
      "text/plain": [
       "[1] \"double\""
      ]
     },
     "metadata": {},
     "output_type": "display_data"
    },
    {
     "data": {
      "text/html": [
       "'logical'"
      ],
      "text/latex": [
       "'logical'"
      ],
      "text/markdown": [
       "'logical'"
      ],
      "text/plain": [
       "[1] \"logical\""
      ]
     },
     "metadata": {},
     "output_type": "display_data"
    },
    {
     "data": {
      "text/html": [
       "'character'"
      ],
      "text/latex": [
       "'character'"
      ],
      "text/markdown": [
       "'character'"
      ],
      "text/plain": [
       "[1] \"character\""
      ]
     },
     "metadata": {},
     "output_type": "display_data"
    }
   ],
   "source": [
    "typeof(2) # numbers by default are double\n",
    "typeof(2L) # to force to be integer\n",
    "typeof(3.14)\n",
    "typeof(TRUE)\n",
    "typeof(\"TRUE\")"
   ]
  },
  {
   "cell_type": "markdown",
   "metadata": {},
   "source": [
    "## 2.2 Vectors\n",
    "The most basic <span style=\"color:red\">type</span> of R objects is a vector. All the objects we used so far are vectors of length 1. Vectors are variables with one or more values of the same type, e.g., all are of numeric class. For example, a numeric vector might consist of the numbers (1.2, 2.3, 0.2, 1.1).\n",
    "\n",
    "* Vectors are created by c() function (concatenatation function)\n",
    "* Also, they ca be created by vector() function: v <- vector(\"numeric\", length=5)\n",
    "* should contain objects of the same class\n",
    "* if you put objects from different classes, an implicit coercion (the calss of value would be changed) will happen\n",
    "* Creating variables using seq and rep functions."
   ]
  },
  {
   "cell_type": "code",
   "execution_count": 1,
   "metadata": {
    "collapsed": true,
    "vscode": {
     "languageId": "r"
    }
   },
   "outputs": [],
   "source": [
    "v1 <- c(5,7,9) # a vector called v1 is created."
   ]
  },
  {
   "cell_type": "code",
   "execution_count": 2,
   "metadata": {
    "collapsed": false,
    "vscode": {
     "languageId": "r"
    }
   },
   "outputs": [
    {
     "data": {
      "text/html": [
       "<ol class=list-inline>\n",
       "\t<li>5</li>\n",
       "\t<li>7</li>\n",
       "\t<li>9</li>\n",
       "</ol>\n"
      ],
      "text/latex": [
       "\\begin{enumerate*}\n",
       "\\item 5\n",
       "\\item 7\n",
       "\\item 9\n",
       "\\end{enumerate*}\n"
      ],
      "text/markdown": [
       "1. 5\n",
       "2. 7\n",
       "3. 9\n",
       "\n",
       "\n"
      ],
      "text/plain": [
       "[1] 5 7 9"
      ]
     },
     "metadata": {},
     "output_type": "display_data"
    }
   ],
   "source": [
    "v1"
   ]
  },
  {
   "cell_type": "code",
   "execution_count": 4,
   "metadata": {
    "collapsed": false,
    "vscode": {
     "languageId": "r"
    }
   },
   "outputs": [
    {
     "name": "stdout",
     "output_type": "stream",
     "text": [
      "[1] 5 7 9\n"
     ]
    }
   ],
   "source": [
    "print(v1)\n",
    "#this says v1 is a vector, or a sequence of objects, and the first one is 5."
   ]
  },
  {
   "cell_type": "code",
   "execution_count": 5,
   "metadata": {
    "collapsed": false,
    "vscode": {
     "languageId": "r"
    }
   },
   "outputs": [
    {
     "name": "stdout",
     "output_type": "stream",
     "text": [
      " [1]  3  4  5  6  7  8  9 10 11 12 13 14 15 16 17 18 19 20 21 22 23 24 25 26 27\n",
      "[26] 28 29 30 31 32 33 34 35\n"
     ]
    }
   ],
   "source": [
    "v2 <- 3:35 # a sequence of consecutive integers are put in v2. The sequence starts from 3 and goes to 35\n",
    "print(v2)\n",
    "# the first item is 3 and the 26th item is 28."
   ]
  },
  {
   "cell_type": "code",
   "execution_count": 6,
   "metadata": {
    "collapsed": false,
    "vscode": {
     "languageId": "r"
    }
   },
   "outputs": [
    {
     "name": "stdout",
     "output_type": "stream",
     "text": [
      "[1] \"Helo\" \"Hi\"   \"Bye\" \n"
     ]
    }
   ],
   "source": [
    "v3 <- c(\"Helo\", \"Hi\", \"Bye\") # a vector of characters\n",
    "print(v3)"
   ]
  },
  {
   "cell_type": "code",
   "execution_count": 7,
   "metadata": {
    "collapsed": false,
    "vscode": {
     "languageId": "r"
    }
   },
   "outputs": [
    {
     "data": {
      "text/html": [
       "<ol class=list-inline>\n",
       "\t<li>TRUE</li>\n",
       "\t<li>TRUE</li>\n",
       "\t<li>FALSE</li>\n",
       "\t<li>TRUE</li>\n",
       "\t<li>TRUE</li>\n",
       "</ol>\n"
      ],
      "text/latex": [
       "\\begin{enumerate*}\n",
       "\\item TRUE\n",
       "\\item TRUE\n",
       "\\item FALSE\n",
       "\\item TRUE\n",
       "\\item TRUE\n",
       "\\end{enumerate*}\n"
      ],
      "text/markdown": [
       "1. TRUE\n",
       "2. TRUE\n",
       "3. FALSE\n",
       "4. TRUE\n",
       "5. TRUE\n",
       "\n",
       "\n"
      ],
      "text/plain": [
       "[1]  TRUE  TRUE FALSE  TRUE  TRUE"
      ]
     },
     "metadata": {},
     "output_type": "display_data"
    }
   ],
   "source": [
    "v4 <- c(TRUE, TRUE, FALSE, TRUE, TRUE) # a vector of logical values\n",
    "v4"
   ]
  },
  {
   "cell_type": "code",
   "execution_count": 8,
   "metadata": {
    "collapsed": false,
    "vscode": {
     "languageId": "r"
    }
   },
   "outputs": [
    {
     "data": {
      "text/html": [
       "5"
      ],
      "text/latex": [
       "5"
      ],
      "text/markdown": [
       "5"
      ],
      "text/plain": [
       "[1] 5"
      ]
     },
     "metadata": {},
     "output_type": "display_data"
    }
   ],
   "source": [
    "length(v4) # gives the length of a vector"
   ]
  },
  {
   "cell_type": "code",
   "execution_count": 9,
   "metadata": {
    "collapsed": false,
    "vscode": {
     "languageId": "r"
    }
   },
   "outputs": [
    {
     "data": {
      "text/html": [
       "<ol class=list-inline>\n",
       "\t<li>2</li>\n",
       "\t<li>3</li>\n",
       "\t<li>4</li>\n",
       "\t<li>5</li>\n",
       "\t<li>6</li>\n",
       "\t<li>7</li>\n",
       "\t<li>8</li>\n",
       "</ol>\n"
      ],
      "text/latex": [
       "\\begin{enumerate*}\n",
       "\\item 2\n",
       "\\item 3\n",
       "\\item 4\n",
       "\\item 5\n",
       "\\item 6\n",
       "\\item 7\n",
       "\\item 8\n",
       "\\end{enumerate*}\n"
      ],
      "text/markdown": [
       "1. 2\n",
       "2. 3\n",
       "3. 4\n",
       "4. 5\n",
       "5. 6\n",
       "6. 7\n",
       "7. 8\n",
       "\n",
       "\n"
      ],
      "text/plain": [
       "[1] 2 3 4 5 6 7 8"
      ]
     },
     "metadata": {},
     "output_type": "display_data"
    }
   ],
   "source": [
    "v5 <- seq(2,8) #another way of making a vector of consecutive numbers. Same as 2:8\n",
    "v5"
   ]
  },
  {
   "cell_type": "code",
   "execution_count": 13,
   "metadata": {
    "collapsed": false,
    "vscode": {
     "languageId": "r"
    }
   },
   "outputs": [
    {
     "name": "stdout",
     "output_type": "stream",
     "text": [
      "[1] 3 5 7 9\n"
     ]
    }
   ],
   "source": [
    "v6 <- seq(from=3, to=10, by=2) # equally you can write seq(3,10,2)\n",
    "print(v6)"
   ]
  },
  {
   "cell_type": "code",
   "execution_count": 12,
   "metadata": {
    "collapsed": true,
    "vscode": {
     "languageId": "r"
    }
   },
   "outputs": [],
   "source": [
    "#learn more about seq() function by typing ? seq\n",
    "?seq"
   ]
  },
  {
   "cell_type": "code",
   "execution_count": 14,
   "metadata": {
    "collapsed": false,
    "vscode": {
     "languageId": "r"
    }
   },
   "outputs": [
    {
     "name": "stdout",
     "output_type": "stream",
     "text": [
      "[1] 0 0 0 0 0\n"
     ]
    }
   ],
   "source": [
    "v7 <- vector(mode=\"numeric\", length=5) # another way of creating a vector\n",
    "print(v7)"
   ]
  },
  {
   "cell_type": "code",
   "execution_count": 15,
   "metadata": {
    "collapsed": false,
    "vscode": {
     "languageId": "r"
    }
   },
   "outputs": [
    {
     "name": "stdout",
     "output_type": "stream",
     "text": [
      "[1] \"5\" \"a\" \"2\"\n"
     ]
    }
   ],
   "source": [
    "v8 <- c(5, \"a\", 2) #different types, so a coercion happens. Be very careful about this.\n",
    "print(v8)"
   ]
  },
  {
   "cell_type": "code",
   "execution_count": 30,
   "metadata": {
    "collapsed": false,
    "vscode": {
     "languageId": "r"
    }
   },
   "outputs": [
    {
     "data": {
      "text/html": [
       "'5'"
      ],
      "text/latex": [
       "'5'"
      ],
      "text/markdown": [
       "'5'"
      ],
      "text/plain": [
       "[1] \"5\""
      ]
     },
     "metadata": {},
     "output_type": "display_data"
    },
    {
     "name": "stdout",
     "output_type": "stream",
     "text": [
      "[1] \"a\"\n"
     ]
    }
   ],
   "source": [
    "#accessing elements of a vector\n",
    "v8[1]\n",
    "print(v8[2])"
   ]
  },
  {
   "cell_type": "code",
   "execution_count": 3,
   "metadata": {
    "collapsed": false,
    "vscode": {
     "languageId": "r"
    }
   },
   "outputs": [
    {
     "data": {
      "text/html": [
       "<ol class=list-inline>\n",
       "\t<li>1</li>\n",
       "\t<li>2</li>\n",
       "\t<li>3</li>\n",
       "</ol>\n"
      ],
      "text/latex": [
       "\\begin{enumerate*}\n",
       "\\item 1\n",
       "\\item 2\n",
       "\\item 3\n",
       "\\end{enumerate*}\n"
      ],
      "text/markdown": [
       "1. 1\n",
       "2. 2\n",
       "3. 3\n",
       "\n",
       "\n"
      ],
      "text/plain": [
       "[1] 1 2 3"
      ]
     },
     "metadata": {},
     "output_type": "display_data"
    },
    {
     "data": {
      "text/html": [
       "2"
      ],
      "text/latex": [
       "2"
      ],
      "text/markdown": [
       "2"
      ],
      "text/plain": [
       "[1] 2"
      ]
     },
     "metadata": {},
     "output_type": "display_data"
    },
    {
     "data": {
      "text/html": [
       "<ol class=list-inline>\n",
       "\t<li>1</li>\n",
       "\t<li>257</li>\n",
       "\t<li>3</li>\n",
       "</ol>\n"
      ],
      "text/latex": [
       "\\begin{enumerate*}\n",
       "\\item 1\n",
       "\\item 257\n",
       "\\item 3\n",
       "\\end{enumerate*}\n"
      ],
      "text/markdown": [
       "1. 1\n",
       "2. 257\n",
       "3. 3\n",
       "\n",
       "\n"
      ],
      "text/plain": [
       "[1]   1 257   3"
      ]
     },
     "metadata": {},
     "output_type": "display_data"
    }
   ],
   "source": [
    "vv <- c(1,2,3)\n",
    "vv\n",
    "vv[2] #prints the second item\n",
    "vv[2] <- 257 # changes the value stored in the second element\n",
    "vv"
   ]
  },
  {
   "cell_type": "code",
   "execution_count": 46,
   "metadata": {
    "collapsed": false,
    "vscode": {
     "languageId": "r"
    }
   },
   "outputs": [
    {
     "data": {
      "text/html": [
       "12.2"
      ],
      "text/latex": [
       "12.2"
      ],
      "text/markdown": [
       "12.2"
      ],
      "text/plain": [
       "[1] 12.2"
      ]
     },
     "metadata": {},
     "output_type": "display_data"
    },
    {
     "data": {
      "text/html": [
       "<ol class=list-inline>\n",
       "\t<li>12.2</li>\n",
       "\t<li>10.2</li>\n",
       "</ol>\n"
      ],
      "text/latex": [
       "\\begin{enumerate*}\n",
       "\\item 12.2\n",
       "\\item 10.2\n",
       "\\end{enumerate*}\n"
      ],
      "text/markdown": [
       "1. 12.2\n",
       "2. 10.2\n",
       "\n",
       "\n"
      ],
      "text/plain": [
       "[1] 12.2 10.2"
      ]
     },
     "metadata": {},
     "output_type": "display_data"
    }
   ],
   "source": [
    "#to choose more than one element from a vector\n",
    "x <- c(12.2, 52.3, 10.2, 11.1)\n",
    "x[1] # only the first element\n",
    "x[c(1,3)] # the first and third elemment"
   ]
  },
  {
   "cell_type": "code",
   "execution_count": 66,
   "metadata": {
    "collapsed": false,
    "vscode": {
     "languageId": "r"
    }
   },
   "outputs": [
    {
     "name": "stdout",
     "output_type": "stream",
     "text": [
      "[1] 1 2 3\n"
     ]
    }
   ],
   "source": [
    "# Adding an element to the end of a list\n",
    "v <- c(1,2,3)\n",
    "print(v)"
   ]
  },
  {
   "cell_type": "code",
   "execution_count": 68,
   "metadata": {
    "collapsed": false,
    "vscode": {
     "languageId": "r"
    }
   },
   "outputs": [
    {
     "name": "stdout",
     "output_type": "stream",
     "text": [
      "[1]   1   2   3 100\n"
     ]
    }
   ],
   "source": [
    "v <- c(v, 100) # 100 is added to the end of a vector\n",
    "print(v)"
   ]
  },
  {
   "cell_type": "code",
   "execution_count": null,
   "metadata": {
    "collapsed": true,
    "vscode": {
     "languageId": "r"
    }
   },
   "outputs": [],
   "source": [
    "# Create sequential data\n",
    "x1 <- 0:10  # Assigns number 0 through 10 to x1\n",
    "x2 <- 10:0  # Assigns number 10 through 0 to x2\n",
    "x3 <- seq(10)  # Counts from 1 to 10\n",
    "x4 <- seq(30, 0, by = -3)  # Counts down by 3"
   ]
  },
  {
   "cell_type": "code",
   "execution_count": 4,
   "metadata": {
    "collapsed": false,
    "vscode": {
     "languageId": "r"
    }
   },
   "outputs": [
    {
     "data": {
      "text/html": [
       "<ol class=list-inline>\n",
       "\t<li>1</li>\n",
       "\t<li>3</li>\n",
       "\t<li>6</li>\n",
       "\t<li>9</li>\n",
       "\t<li>0</li>\n",
       "</ol>\n"
      ],
      "text/latex": [
       "\\begin{enumerate*}\n",
       "\\item 1\n",
       "\\item 3\n",
       "\\item 6\n",
       "\\item 9\n",
       "\\item 0\n",
       "\\end{enumerate*}\n"
      ],
      "text/markdown": [
       "1. 1\n",
       "2. 3\n",
       "3. 6\n",
       "4. 9\n",
       "5. 0\n",
       "\n",
       "\n"
      ],
      "text/plain": [
       "[1] 1 3 6 9 0"
      ]
     },
     "metadata": {},
     "output_type": "display_data"
    },
    {
     "data": {
      "text/html": [
       "<ol class=list-inline>\n",
       "\t<li>1</li>\n",
       "\t<li>6</li>\n",
       "\t<li>9</li>\n",
       "\t<li>0</li>\n",
       "</ol>\n"
      ],
      "text/latex": [
       "\\begin{enumerate*}\n",
       "\\item 1\n",
       "\\item 6\n",
       "\\item 9\n",
       "\\item 0\n",
       "\\end{enumerate*}\n"
      ],
      "text/markdown": [
       "1. 1\n",
       "2. 6\n",
       "3. 9\n",
       "4. 0\n",
       "\n",
       "\n"
      ],
      "text/plain": [
       "[1] 1 6 9 0"
      ]
     },
     "metadata": {},
     "output_type": "display_data"
    },
    {
     "data": {
      "text/html": [
       "<ol class=list-inline>\n",
       "\t<li>1</li>\n",
       "\t<li>3</li>\n",
       "\t<li>200</li>\n",
       "\t<li>9</li>\n",
       "\t<li>0</li>\n",
       "</ol>\n"
      ],
      "text/latex": [
       "\\begin{enumerate*}\n",
       "\\item 1\n",
       "\\item 3\n",
       "\\item 200\n",
       "\\item 9\n",
       "\\item 0\n",
       "\\end{enumerate*}\n"
      ],
      "text/markdown": [
       "1. 1\n",
       "2. 3\n",
       "3. 200\n",
       "4. 9\n",
       "5. 0\n",
       "\n",
       "\n"
      ],
      "text/plain": [
       "[1]   1   3 200   9   0"
      ]
     },
     "metadata": {},
     "output_type": "display_data"
    },
    {
     "data": {
      "text/plain": [
       "NULL"
      ]
     },
     "metadata": {},
     "output_type": "display_data"
    }
   ],
   "source": [
    "x <- c(1,3,6,9,0)\n",
    "x\n",
    "x[-2] # all the elements except the second element\n",
    "x[3] <- 200 #modify an element\n",
    "x\n",
    "# to delete a vector\n",
    "x <- NULL\n",
    "x"
   ]
  },
  {
   "cell_type": "code",
   "execution_count": 16,
   "metadata": {
    "collapsed": false,
    "vscode": {
     "languageId": "r"
    }
   },
   "outputs": [
    {
     "data": {
      "text/html": [
       "<ol class=list-inline>\n",
       "\t<li>2</li>\n",
       "\t<li>9</li>\n",
       "\t<li>7</li>\n",
       "</ol>\n"
      ],
      "text/latex": [
       "\\begin{enumerate*}\n",
       "\\item 2\n",
       "\\item 9\n",
       "\\item 7\n",
       "\\end{enumerate*}\n"
      ],
      "text/markdown": [
       "1. 2\n",
       "2. 9\n",
       "3. 7\n",
       "\n",
       "\n"
      ],
      "text/plain": [
       "[1] 2 9 7"
      ]
     },
     "metadata": {},
     "output_type": "display_data"
    },
    {
     "data": {
      "text/html": [
       "<ol class=list-inline>\n",
       "\t<li>2</li>\n",
       "\t<li>9</li>\n",
       "\t<li>7</li>\n",
       "\t<li>2</li>\n",
       "\t<li>9</li>\n",
       "\t<li>7</li>\n",
       "\t<li>10</li>\n",
       "</ol>\n"
      ],
      "text/latex": [
       "\\begin{enumerate*}\n",
       "\\item 2\n",
       "\\item 9\n",
       "\\item 7\n",
       "\\item 2\n",
       "\\item 9\n",
       "\\item 7\n",
       "\\item 10\n",
       "\\end{enumerate*}\n"
      ],
      "text/markdown": [
       "1. 2\n",
       "2. 9\n",
       "3. 7\n",
       "4. 2\n",
       "5. 9\n",
       "6. 7\n",
       "7. 10\n",
       "\n",
       "\n"
      ],
      "text/plain": [
       "[1]  2  9  7  2  9  7 10"
      ]
     },
     "metadata": {},
     "output_type": "display_data"
    }
   ],
   "source": [
    "x <- c(2, 9, 7)\n",
    "x\n",
    "y <- c(x, x, 10)\n",
    "y"
   ]
  },
  {
   "cell_type": "code",
   "execution_count": 18,
   "metadata": {
    "collapsed": false,
    "vscode": {
     "languageId": "r"
    }
   },
   "outputs": [
    {
     "data": {
      "text/html": [
       "<ol class=list-inline>\n",
       "\t<li>1</li>\n",
       "\t<li>1.22</li>\n",
       "\t<li>1.44</li>\n",
       "\t<li>1.67</li>\n",
       "\t<li>1.89</li>\n",
       "\t<li>2.11</li>\n",
       "\t<li>2.33</li>\n",
       "\t<li>2.56</li>\n",
       "\t<li>2.78</li>\n",
       "\t<li>3</li>\n",
       "</ol>\n"
      ],
      "text/latex": [
       "\\begin{enumerate*}\n",
       "\\item 1\n",
       "\\item 1.22\n",
       "\\item 1.44\n",
       "\\item 1.67\n",
       "\\item 1.89\n",
       "\\item 2.11\n",
       "\\item 2.33\n",
       "\\item 2.56\n",
       "\\item 2.78\n",
       "\\item 3\n",
       "\\end{enumerate*}\n"
      ],
      "text/markdown": [
       "1. 1\n",
       "2. 1.22\n",
       "3. 1.44\n",
       "4. 1.67\n",
       "5. 1.89\n",
       "6. 2.11\n",
       "7. 2.33\n",
       "8. 2.56\n",
       "9. 2.78\n",
       "10. 3\n",
       "\n",
       "\n"
      ],
      "text/plain": [
       " [1] 1.00 1.22 1.44 1.67 1.89 2.11 2.33 2.56 2.78 3.00"
      ]
     },
     "metadata": {},
     "output_type": "display_data"
    }
   ],
   "source": [
    "round(seq(1,3,length=10), 2)"
   ]
  },
  {
   "cell_type": "code",
   "execution_count": 30,
   "metadata": {
    "collapsed": false,
    "vscode": {
     "languageId": "r"
    }
   },
   "outputs": [
    {
     "data": {
      "text/html": [
       "<ol class=list-inline>\n",
       "\t<li>2</li>\n",
       "\t<li>1.9</li>\n",
       "\t<li>1.8</li>\n",
       "\t<li>1.7</li>\n",
       "</ol>\n"
      ],
      "text/latex": [
       "\\begin{enumerate*}\n",
       "\\item 2\n",
       "\\item 1.9\n",
       "\\item 1.8\n",
       "\\item 1.7\n",
       "\\end{enumerate*}\n"
      ],
      "text/markdown": [
       "1. 2\n",
       "2. 1.9\n",
       "3. 1.8\n",
       "4. 1.7\n",
       "\n",
       "\n"
      ],
      "text/plain": [
       "[1] 2.0 1.9 1.8 1.7"
      ]
     },
     "metadata": {},
     "output_type": "display_data"
    }
   ],
   "source": [
    "seq(from = 2, by = -0.1, length.out = 4)"
   ]
  },
  {
   "cell_type": "code",
   "execution_count": 20,
   "metadata": {
    "collapsed": false,
    "vscode": {
     "languageId": "r"
    }
   },
   "outputs": [
    {
     "data": {
      "text/html": [
       "<ol class=list-inline>\n",
       "\t<li>3</li>\n",
       "\t<li>3</li>\n",
       "\t<li>3</li>\n",
       "\t<li>3</li>\n",
       "</ol>\n"
      ],
      "text/latex": [
       "\\begin{enumerate*}\n",
       "\\item 3\n",
       "\\item 3\n",
       "\\item 3\n",
       "\\item 3\n",
       "\\end{enumerate*}\n"
      ],
      "text/markdown": [
       "1. 3\n",
       "2. 3\n",
       "3. 3\n",
       "4. 3\n",
       "\n",
       "\n"
      ],
      "text/plain": [
       "[1] 3 3 3 3"
      ]
     },
     "metadata": {},
     "output_type": "display_data"
    }
   ],
   "source": [
    "x <- rep(3,4)\n",
    "x"
   ]
  },
  {
   "cell_type": "code",
   "execution_count": 21,
   "metadata": {
    "collapsed": false,
    "vscode": {
     "languageId": "r"
    }
   },
   "outputs": [
    {
     "data": {
      "text/html": [
       "<ol class=list-inline>\n",
       "\t<li>1</li>\n",
       "\t<li>2</li>\n",
       "\t<li>3</li>\n",
       "\t<li>4</li>\n",
       "\t<li>5</li>\n",
       "\t<li>1</li>\n",
       "\t<li>2</li>\n",
       "\t<li>3</li>\n",
       "\t<li>4</li>\n",
       "\t<li>5</li>\n",
       "\t<li>1</li>\n",
       "\t<li>2</li>\n",
       "\t<li>3</li>\n",
       "\t<li>4</li>\n",
       "\t<li>5</li>\n",
       "</ol>\n"
      ],
      "text/latex": [
       "\\begin{enumerate*}\n",
       "\\item 1\n",
       "\\item 2\n",
       "\\item 3\n",
       "\\item 4\n",
       "\\item 5\n",
       "\\item 1\n",
       "\\item 2\n",
       "\\item 3\n",
       "\\item 4\n",
       "\\item 5\n",
       "\\item 1\n",
       "\\item 2\n",
       "\\item 3\n",
       "\\item 4\n",
       "\\item 5\n",
       "\\end{enumerate*}\n"
      ],
      "text/markdown": [
       "1. 1\n",
       "2. 2\n",
       "3. 3\n",
       "4. 4\n",
       "5. 5\n",
       "6. 1\n",
       "7. 2\n",
       "8. 3\n",
       "9. 4\n",
       "10. 5\n",
       "11. 1\n",
       "12. 2\n",
       "13. 3\n",
       "14. 4\n",
       "15. 5\n",
       "\n",
       "\n"
      ],
      "text/plain": [
       " [1] 1 2 3 4 5 1 2 3 4 5 1 2 3 4 5"
      ]
     },
     "metadata": {},
     "output_type": "display_data"
    }
   ],
   "source": [
    "rep(1:5,3)"
   ]
  },
  {
   "cell_type": "code",
   "execution_count": 22,
   "metadata": {
    "collapsed": false,
    "vscode": {
     "languageId": "r"
    }
   },
   "outputs": [
    {
     "data": {
      "text/html": [
       "<ol class=list-inline>\n",
       "\t<li>7</li>\n",
       "\t<li>3</li>\n",
       "\t<li>2</li>\n",
       "\t<li>0</li>\n",
       "\t<li>1</li>\n",
       "</ol>\n"
      ],
      "text/latex": [
       "\\begin{enumerate*}\n",
       "\\item 7\n",
       "\\item 3\n",
       "\\item 2\n",
       "\\item 0\n",
       "\\item 1\n",
       "\\end{enumerate*}\n"
      ],
      "text/markdown": [
       "1. 7\n",
       "2. 3\n",
       "3. 2\n",
       "4. 0\n",
       "5. 1\n",
       "\n",
       "\n"
      ],
      "text/plain": [
       "[1] 7 3 2 0 1"
      ]
     },
     "metadata": {},
     "output_type": "display_data"
    }
   ],
   "source": [
    "x <- c(7,3,5,2,0,1)\n",
    "y <- x[-3]\n",
    "y"
   ]
  },
  {
   "cell_type": "code",
   "execution_count": 23,
   "metadata": {
    "collapsed": false,
    "vscode": {
     "languageId": "r"
    }
   },
   "outputs": [
    {
     "data": {
      "text/html": [
       "<ol class=list-inline>\n",
       "\t<li>7</li>\n",
       "\t<li>3</li>\n",
       "\t<li>5</li>\n",
       "\t<li>2</li>\n",
       "\t<li>0</li>\n",
       "</ol>\n"
      ],
      "text/latex": [
       "\\begin{enumerate*}\n",
       "\\item 7\n",
       "\\item 3\n",
       "\\item 5\n",
       "\\item 2\n",
       "\\item 0\n",
       "\\end{enumerate*}\n"
      ],
      "text/markdown": [
       "1. 7\n",
       "2. 3\n",
       "3. 5\n",
       "4. 2\n",
       "5. 0\n",
       "\n",
       "\n"
      ],
      "text/plain": [
       "[1] 7 3 5 2 0"
      ]
     },
     "metadata": {},
     "output_type": "display_data"
    }
   ],
   "source": [
    "y <- x[-length(x)] # always delets the final element\n",
    "y"
   ]
  },
  {
   "cell_type": "markdown",
   "metadata": {},
   "source": [
    "## 2.3 Lists\n",
    "Other basic object in R is a list. A list is very similar to a vector, but it could contain objects from different classes. You can create a list using list() function. The main functionality of lists in putting outputs of functions inside. Later we will see an important example of lm() functions."
   ]
  },
  {
   "cell_type": "code",
   "execution_count": 2,
   "metadata": {
    "collapsed": false,
    "vscode": {
     "languageId": "r"
    }
   },
   "outputs": [
    {
     "name": "stdout",
     "output_type": "stream",
     "text": [
      "[[1]]\n",
      "[1] 5\n",
      "\n",
      "[[2]]\n",
      "[1] \"a\"\n",
      "\n",
      "[[3]]\n",
      "[1] 2\n",
      "\n"
     ]
    }
   ],
   "source": [
    "L1 <- list(5, \"a\", 2)\n",
    "print(L1)\n",
    "# L1 has 3 elements, and each element is considered as a vector\n",
    "#pay attention to double brackets. It shows the elements of the list"
   ]
  },
  {
   "cell_type": "code",
   "execution_count": 3,
   "metadata": {
    "collapsed": false,
    "vscode": {
     "languageId": "r"
    }
   },
   "outputs": [
    {
     "data": {
      "text/html": [
       "<ol>\n",
       "\t<li>5</li>\n",
       "\t<li>'a'</li>\n",
       "\t<li>2</li>\n",
       "</ol>\n"
      ],
      "text/latex": [
       "\\begin{enumerate}\n",
       "\\item 5\n",
       "\\item 'a'\n",
       "\\item 2\n",
       "\\end{enumerate}\n"
      ],
      "text/markdown": [
       "1. 5\n",
       "2. 'a'\n",
       "3. 2\n",
       "\n",
       "\n"
      ],
      "text/plain": [
       "[[1]]\n",
       "[1] 5\n",
       "\n",
       "[[2]]\n",
       "[1] \"a\"\n",
       "\n",
       "[[3]]\n",
       "[1] 2\n"
      ]
     },
     "metadata": {},
     "output_type": "display_data"
    }
   ],
   "source": [
    "L1 #auto printing"
   ]
  },
  {
   "cell_type": "code",
   "execution_count": 18,
   "metadata": {
    "collapsed": false,
    "vscode": {
     "languageId": "r"
    }
   },
   "outputs": [
    {
     "data": {
      "text/html": [
       "3"
      ],
      "text/latex": [
       "3"
      ],
      "text/markdown": [
       "3"
      ],
      "text/plain": [
       "[1] 3"
      ]
     },
     "metadata": {},
     "output_type": "display_data"
    }
   ],
   "source": [
    "length(L1)"
   ]
  },
  {
   "cell_type": "code",
   "execution_count": 4,
   "metadata": {
    "collapsed": false,
    "vscode": {
     "languageId": "r"
    }
   },
   "outputs": [
    {
     "name": "stdout",
     "output_type": "stream",
     "text": [
      "[[1]]\n",
      "[1] 1 2 3\n",
      "\n",
      "[[2]]\n",
      "[1] \"One\" \"Two\"\n",
      "\n",
      "[[3]]\n",
      "[1] TRUE\n",
      "\n"
     ]
    }
   ],
   "source": [
    "L2 <- list(c(1,2,3), c(\"One\", \"Two\"), TRUE)\n",
    "print(L2)"
   ]
  },
  {
   "cell_type": "code",
   "execution_count": 6,
   "metadata": {
    "collapsed": false,
    "vscode": {
     "languageId": "r"
    }
   },
   "outputs": [
    {
     "data": {
      "text/html": [
       "<ol>\n",
       "\t<li><ol class=list-inline>\n",
       "\t<li>1</li>\n",
       "\t<li>2</li>\n",
       "\t<li>3</li>\n",
       "</ol>\n",
       "</li>\n",
       "\t<li><ol class=list-inline>\n",
       "\t<li>'One'</li>\n",
       "\t<li>'Two'</li>\n",
       "</ol>\n",
       "</li>\n",
       "\t<li>TRUE</li>\n",
       "</ol>\n"
      ],
      "text/latex": [
       "\\begin{enumerate}\n",
       "\\item \\begin{enumerate*}\n",
       "\\item 1\n",
       "\\item 2\n",
       "\\item 3\n",
       "\\end{enumerate*}\n",
       "\n",
       "\\item \\begin{enumerate*}\n",
       "\\item 'One'\n",
       "\\item 'Two'\n",
       "\\end{enumerate*}\n",
       "\n",
       "\\item TRUE\n",
       "\\end{enumerate}\n"
      ],
      "text/markdown": [
       "1. 1. 1\n",
       "2. 2\n",
       "3. 3\n",
       "\n",
       "\n",
       "\n",
       "2. 1. 'One'\n",
       "2. 'Two'\n",
       "\n",
       "\n",
       "\n",
       "3. TRUE\n",
       "\n",
       "\n"
      ],
      "text/plain": [
       "[[1]]\n",
       "[1] 1 2 3\n",
       "\n",
       "[[2]]\n",
       "[1] \"One\" \"Two\"\n",
       "\n",
       "[[3]]\n",
       "[1] TRUE\n"
      ]
     },
     "metadata": {},
     "output_type": "display_data"
    }
   ],
   "source": [
    "L2"
   ]
  },
  {
   "cell_type": "code",
   "execution_count": 31,
   "metadata": {
    "collapsed": false,
    "vscode": {
     "languageId": "r"
    }
   },
   "outputs": [
    {
     "data": {
      "text/html": [
       "<ol>\n",
       "\t<li>5</li>\n",
       "</ol>\n"
      ],
      "text/latex": [
       "\\begin{enumerate}\n",
       "\\item 5\n",
       "\\end{enumerate}\n"
      ],
      "text/markdown": [
       "1. 5\n",
       "\n",
       "\n"
      ],
      "text/plain": [
       "[[1]]\n",
       "[1] 5\n"
      ]
     },
     "metadata": {},
     "output_type": "display_data"
    }
   ],
   "source": [
    "L1[1]"
   ]
  },
  {
   "cell_type": "code",
   "execution_count": 33,
   "metadata": {
    "collapsed": false,
    "vscode": {
     "languageId": "r"
    }
   },
   "outputs": [
    {
     "name": "stdout",
     "output_type": "stream",
     "text": [
      "[[1]]\n",
      "[1] 1 2 3\n",
      "\n"
     ]
    }
   ],
   "source": [
    "print(L2[1])"
   ]
  },
  {
   "cell_type": "code",
   "execution_count": 34,
   "metadata": {
    "collapsed": false,
    "vscode": {
     "languageId": "r"
    }
   },
   "outputs": [
    {
     "name": "stdout",
     "output_type": "stream",
     "text": [
      "[1] 1 2 3\n"
     ]
    }
   ],
   "source": [
    "print(L2[[1]])"
   ]
  },
  {
   "cell_type": "markdown",
   "metadata": {},
   "source": [
    "## 2.4 Numbers\n",
    "Numbers in R are considerd as __numeric__, (as real numbers with double precision) . If you want an integer, you need to explicitly add L to the end of the number, otherwise it is a double.\n",
    "\n",
    "Special numbers:\n",
    "* Inf, infinity, for $\\frac{1}{0}$\n",
    "* NaN, not a number, for $\\frac{0}{0}$\n",
    "* NA can be thought as a missing value"
   ]
  },
  {
   "cell_type": "code",
   "execution_count": 31,
   "metadata": {
    "collapsed": false,
    "vscode": {
     "languageId": "r"
    }
   },
   "outputs": [
    {
     "name": "stdout",
     "output_type": "stream",
     "text": [
      "[1] 1\n"
     ]
    },
    {
     "data": {
      "text/html": [
       "'numeric'"
      ],
      "text/latex": [
       "'numeric'"
      ],
      "text/markdown": [
       "'numeric'"
      ],
      "text/plain": [
       "[1] \"numeric\""
      ]
     },
     "metadata": {},
     "output_type": "display_data"
    },
    {
     "data": {
      "text/html": [
       "'double'"
      ],
      "text/latex": [
       "'double'"
      ],
      "text/markdown": [
       "'double'"
      ],
      "text/plain": [
       "[1] \"double\""
      ]
     },
     "metadata": {},
     "output_type": "display_data"
    },
    {
     "name": "stdout",
     "output_type": "stream",
     "text": [
      "[1] 1\n"
     ]
    },
    {
     "data": {
      "text/html": [
       "'integer'"
      ],
      "text/latex": [
       "'integer'"
      ],
      "text/markdown": [
       "'integer'"
      ],
      "text/plain": [
       "[1] \"integer\""
      ]
     },
     "metadata": {},
     "output_type": "display_data"
    },
    {
     "data": {
      "text/html": [
       "'integer'"
      ],
      "text/latex": [
       "'integer'"
      ],
      "text/markdown": [
       "'integer'"
      ],
      "text/plain": [
       "[1] \"integer\""
      ]
     },
     "metadata": {},
     "output_type": "display_data"
    }
   ],
   "source": [
    "x <- 1\n",
    "print(x)\n",
    "class(x)\n",
    "typeof(x)\n",
    "y <- 1L\n",
    "print(y)\n",
    "class(y)\n",
    "typeof(y)"
   ]
  },
  {
   "cell_type": "code",
   "execution_count": 50,
   "metadata": {
    "collapsed": false,
    "vscode": {
     "languageId": "r"
    }
   },
   "outputs": [
    {
     "data": {
      "text/html": [
       "'Heloo The World!'"
      ],
      "text/latex": [
       "'Heloo The World!'"
      ],
      "text/markdown": [
       "'Heloo The World!'"
      ],
      "text/plain": [
       "[1] \"Heloo The World!\""
      ]
     },
     "metadata": {},
     "output_type": "display_data"
    },
    {
     "name": "stdout",
     "output_type": "stream",
     "text": [
      "[1] \"Heloo\"      \"The World!\"\n"
     ]
    }
   ],
   "source": [
    "c1 <- \"Heloo\" # character variable\n",
    "c2 <- \"The World!\" # another character variable\n",
    "paste(c1, c2)\n",
    "print(c(c1, c2))"
   ]
  },
  {
   "cell_type": "code",
   "execution_count": 29,
   "metadata": {
    "collapsed": false,
    "vscode": {
     "languageId": "r"
    }
   },
   "outputs": [
    {
     "name": "stderr",
     "output_type": "stream",
     "text": [
      "Warning message:\n",
      "In sqrt(-2): NaNs produced"
     ]
    },
    {
     "data": {
      "text/html": [
       "NaN"
      ],
      "text/latex": [
       "NaN"
      ],
      "text/markdown": [
       "NaN"
      ],
      "text/plain": [
       "[1] NaN"
      ]
     },
     "metadata": {},
     "output_type": "display_data"
    }
   ],
   "source": [
    "sqrt(-2)  #NaN stands for “not a number”"
   ]
  },
  {
   "cell_type": "markdown",
   "metadata": {},
   "source": [
    "## 2.5 Changing Class of a Value\n",
    "You saw that a vector contains values of only one class. If different classes mixed together by having valuesw ith different classes in a vector, an implicit coercion happens. It means R will convert all the values to a class that are the same. However, sometimes we want to change the type of a value ourselves, so we implemenet an explicit coercion by as.SomeClass() functions. \n",
    "* as.numeric() to change the type into numeric if it is possibel\n",
    "* as.logical() to change into logical if it is possible\n",
    "* as.character()\n",
    "* as.complex()\n",
    "* as.integer()\n",
    "\n",
    "Sometimes R cannot convert one type to another, and gives NA. Also, you will get warning from R."
   ]
  },
  {
   "cell_type": "code",
   "execution_count": 21,
   "metadata": {
    "collapsed": false,
    "vscode": {
     "languageId": "r"
    }
   },
   "outputs": [
    {
     "data": {
      "text/html": [
       "'integer'"
      ],
      "text/latex": [
       "'integer'"
      ],
      "text/markdown": [
       "'integer'"
      ],
      "text/plain": [
       "[1] \"integer\""
      ]
     },
     "metadata": {},
     "output_type": "display_data"
    },
    {
     "data": {
      "text/html": [
       "'numeric'"
      ],
      "text/latex": [
       "'numeric'"
      ],
      "text/markdown": [
       "'numeric'"
      ],
      "text/plain": [
       "[1] \"numeric\""
      ]
     },
     "metadata": {},
     "output_type": "display_data"
    },
    {
     "name": "stdout",
     "output_type": "stream",
     "text": [
      "[1] TRUE TRUE TRUE TRUE TRUE\n"
     ]
    },
    {
     "data": {
      "text/html": [
       "'logical'"
      ],
      "text/latex": [
       "'logical'"
      ],
      "text/markdown": [
       "'logical'"
      ],
      "text/plain": [
       "[1] \"logical\""
      ]
     },
     "metadata": {},
     "output_type": "display_data"
    },
    {
     "name": "stdout",
     "output_type": "stream",
     "text": [
      "[1] \"TRUE\" \"TRUE\" \"TRUE\" \"TRUE\" \"TRUE\"\n"
     ]
    },
    {
     "data": {
      "text/html": [
       "'character'"
      ],
      "text/latex": [
       "'character'"
      ],
      "text/markdown": [
       "'character'"
      ],
      "text/plain": [
       "[1] \"character\""
      ]
     },
     "metadata": {},
     "output_type": "display_data"
    }
   ],
   "source": [
    "x <- 1:5 #sequence of numbers\n",
    "class(x)\n",
    "y <- as.numeric(x)\n",
    "class(y)\n",
    "z <- as.logical(x)\n",
    "print(z)\n",
    "class(z)\n",
    "u <- as.character(z)\n",
    "print(u)\n",
    "class(u)"
   ]
  },
  {
   "cell_type": "code",
   "execution_count": 22,
   "metadata": {
    "collapsed": false,
    "vscode": {
     "languageId": "r"
    }
   },
   "outputs": [
    {
     "name": "stderr",
     "output_type": "stream",
     "text": [
      "Warning message:\n",
      "In eval(expr, envir, enclos): NAs introduced by coercion"
     ]
    },
    {
     "data": {
      "text/html": [
       "<ol class=list-inline>\n",
       "\t<li>NA</li>\n",
       "\t<li>NA</li>\n",
       "\t<li>NA</li>\n",
       "\t<li>NA</li>\n",
       "\t<li>NA</li>\n",
       "</ol>\n"
      ],
      "text/latex": [
       "\\begin{enumerate*}\n",
       "\\item NA\n",
       "\\item NA\n",
       "\\item NA\n",
       "\\item NA\n",
       "\\item NA\n",
       "\\end{enumerate*}\n"
      ],
      "text/markdown": [
       "1. NA\n",
       "2. NA\n",
       "3. NA\n",
       "4. NA\n",
       "5. NA\n",
       "\n",
       "\n"
      ],
      "text/plain": [
       "[1] NA NA NA NA NA"
      ]
     },
     "metadata": {},
     "output_type": "display_data"
    },
    {
     "data": {
      "text/html": [
       "'numeric'"
      ],
      "text/latex": [
       "'numeric'"
      ],
      "text/markdown": [
       "'numeric'"
      ],
      "text/plain": [
       "[1] \"numeric\""
      ]
     },
     "metadata": {},
     "output_type": "display_data"
    }
   ],
   "source": [
    "t <- as.numeric(u)\n",
    "t\n",
    "class(t)"
   ]
  },
  {
   "cell_type": "code",
   "execution_count": 28,
   "metadata": {
    "collapsed": false,
    "vscode": {
     "languageId": "r"
    }
   },
   "outputs": [
    {
     "data": {
      "text/html": [
       "<ol>\n",
       "\t<li>14</li>\n",
       "\t<li>'Hello'</li>\n",
       "\t<li>TRUE</li>\n",
       "\t<li><ol>\n",
       "\t<li>23</li>\n",
       "\t<li>'Hi'</li>\n",
       "\t<li>TRUE</li>\n",
       "\t<li>FALSE</li>\n",
       "</ol>\n",
       "</li>\n",
       "</ol>\n"
      ],
      "text/latex": [
       "\\begin{enumerate}\n",
       "\\item 14\n",
       "\\item 'Hello'\n",
       "\\item TRUE\n",
       "\\item \\begin{enumerate}\n",
       "\\item 23\n",
       "\\item 'Hi'\n",
       "\\item TRUE\n",
       "\\item FALSE\n",
       "\\end{enumerate}\n",
       "\n",
       "\\end{enumerate}\n"
      ],
      "text/markdown": [
       "1. 14\n",
       "2. 'Hello'\n",
       "3. TRUE\n",
       "4. 1. 23\n",
       "2. 'Hi'\n",
       "3. TRUE\n",
       "4. FALSE\n",
       "\n",
       "\n",
       "\n",
       "\n",
       "\n"
      ],
      "text/plain": [
       "[[1]]\n",
       "[1] 14\n",
       "\n",
       "[[2]]\n",
       "[1] \"Hello\"\n",
       "\n",
       "[[3]]\n",
       "[1] TRUE\n",
       "\n",
       "[[4]]\n",
       "[[4]][[1]]\n",
       "[1] 23\n",
       "\n",
       "[[4]][[2]]\n",
       "[1] \"Hi\"\n",
       "\n",
       "[[4]][[3]]\n",
       "[1] TRUE\n",
       "\n",
       "[[4]][[4]]\n",
       "[1] FALSE\n",
       "\n"
      ]
     },
     "metadata": {},
     "output_type": "display_data"
    }
   ],
   "source": [
    "#list does not have any problm with mixing data types. Very poerful!\n",
    "x <- list(14, \"Hello\", TRUE, list(23, \"Hi\", TRUE, FALSE))\n",
    "x"
   ]
  },
  {
   "cell_type": "code",
   "execution_count": 29,
   "metadata": {
    "collapsed": false,
    "vscode": {
     "languageId": "r"
    }
   },
   "outputs": [
    {
     "name": "stdout",
     "output_type": "stream",
     "text": [
      "[[1]]\n",
      "[1] 14\n",
      "\n",
      "[[2]]\n",
      "[1] \"Hello\"\n",
      "\n",
      "[[3]]\n",
      "[1] TRUE\n",
      "\n",
      "[[4]]\n",
      "[[4]][[1]]\n",
      "[1] 23\n",
      "\n",
      "[[4]][[2]]\n",
      "[1] \"Hi\"\n",
      "\n",
      "[[4]][[3]]\n",
      "[1] TRUE\n",
      "\n",
      "[[4]][[4]]\n",
      "[1] FALSE\n",
      "\n",
      "\n"
     ]
    }
   ],
   "source": [
    "print(x)\n",
    "#elements of list has double brackets around them. Other objects have single bracket"
   ]
  },
  {
   "cell_type": "markdown",
   "metadata": {
    "collapsed": true
   },
   "source": [
    "## 2.6 Factors\n",
    "Categorical data in R are represented using factors. We will learn a lot about this type of data soon. Factors are stored as integers, but they are assigned labels. R sorts factors in alphabetical oredr. Factors can be ordered or unordered. R considers factors as nominal categorical variables, and \"ordered\" as ordinal categorical variables. "
   ]
  },
  {
   "cell_type": "code",
   "execution_count": 7,
   "metadata": {
    "collapsed": false,
    "vscode": {
     "languageId": "r"
    }
   },
   "outputs": [
    {
     "name": "stdout",
     "output_type": "stream",
     "text": [
      "[1] male  fmale male  male  fmale male \n",
      "Levels: fmale male\n"
     ]
    }
   ],
   "source": [
    "x <- factor(c(\"male\", \"fmale\", \"male\", \"male\", \"fmale\", \"male\")) #create a factor object\n",
    "print(x)"
   ]
  },
  {
   "cell_type": "code",
   "execution_count": 9,
   "metadata": {
    "collapsed": false,
    "vscode": {
     "languageId": "r"
    }
   },
   "outputs": [
    {
     "data": {
      "text/html": [
       "<ol class=list-inline>\n",
       "\t<li>'fmale'</li>\n",
       "\t<li>'male'</li>\n",
       "</ol>\n"
      ],
      "text/latex": [
       "\\begin{enumerate*}\n",
       "\\item 'fmale'\n",
       "\\item 'male'\n",
       "\\end{enumerate*}\n"
      ],
      "text/markdown": [
       "1. 'fmale'\n",
       "2. 'male'\n",
       "\n",
       "\n"
      ],
      "text/plain": [
       "[1] \"fmale\" \"male\" "
      ]
     },
     "metadata": {},
     "output_type": "display_data"
    }
   ],
   "source": [
    "levels(x) #alphabetical order"
   ]
  },
  {
   "cell_type": "code",
   "execution_count": 10,
   "metadata": {
    "collapsed": false,
    "vscode": {
     "languageId": "r"
    }
   },
   "outputs": [
    {
     "data": {
      "text/html": [
       "2"
      ],
      "text/latex": [
       "2"
      ],
      "text/markdown": [
       "2"
      ],
      "text/plain": [
       "[1] 2"
      ]
     },
     "metadata": {},
     "output_type": "display_data"
    }
   ],
   "source": [
    "nlevels(x)"
   ]
  },
  {
   "cell_type": "code",
   "execution_count": 11,
   "metadata": {
    "collapsed": false,
    "vscode": {
     "languageId": "r"
    }
   },
   "outputs": [
    {
     "data": {
      "text/html": [
       "<ol class=list-inline>\n",
       "\t<li>2</li>\n",
       "\t<li>1</li>\n",
       "\t<li>2</li>\n",
       "\t<li>2</li>\n",
       "\t<li>1</li>\n",
       "\t<li>2</li>\n",
       "</ol>\n"
      ],
      "text/latex": [
       "\\begin{enumerate*}\n",
       "\\item 2\n",
       "\\item 1\n",
       "\\item 2\n",
       "\\item 2\n",
       "\\item 1\n",
       "\\item 2\n",
       "\\end{enumerate*}\n"
      ],
      "text/markdown": [
       "1. 2\n",
       "2. 1\n",
       "3. 2\n",
       "4. 2\n",
       "5. 1\n",
       "6. 2\n",
       "\n",
       "\n"
      ],
      "text/plain": [
       "[1] 2 1 2 2 1 2\n",
       "attr(,\"levels\")\n",
       "[1] \"fmale\" \"male\" "
      ]
     },
     "metadata": {},
     "output_type": "display_data"
    }
   ],
   "source": [
    "unclass(x)"
   ]
  },
  {
   "cell_type": "code",
   "execution_count": 37,
   "metadata": {
    "collapsed": false,
    "vscode": {
     "languageId": "r"
    }
   },
   "outputs": [
    {
     "data": {
      "text/plain": [
       "x\n",
       "fmale  male \n",
       "    2     4 "
      ]
     },
     "metadata": {},
     "output_type": "display_data"
    }
   ],
   "source": [
    "table(x) #gives frequency count"
   ]
  },
  {
   "cell_type": "code",
   "execution_count": 39,
   "metadata": {
    "collapsed": false,
    "vscode": {
     "languageId": "r"
    }
   },
   "outputs": [
    {
     "data": {
      "text/html": [
       "<ol class=list-inline>\n",
       "\t<li>'fmale'</li>\n",
       "\t<li>'male'</li>\n",
       "</ol>\n"
      ],
      "text/latex": [
       "\\begin{enumerate*}\n",
       "\\item 'fmale'\n",
       "\\item 'male'\n",
       "\\end{enumerate*}\n"
      ],
      "text/markdown": [
       "1. 'fmale'\n",
       "2. 'male'\n",
       "\n",
       "\n"
      ],
      "text/plain": [
       "[1] \"fmale\" \"male\" "
      ]
     },
     "metadata": {},
     "output_type": "display_data"
    }
   ],
   "source": [
    "levels(x)"
   ]
  },
  {
   "cell_type": "code",
   "execution_count": 40,
   "metadata": {
    "collapsed": false,
    "vscode": {
     "languageId": "r"
    }
   },
   "outputs": [
    {
     "data": {
      "text/html": [
       "<dl class=dl-horizontal>\n",
       "\t<dt>fmale</dt>\n",
       "\t\t<dd>2</dd>\n",
       "\t<dt>male</dt>\n",
       "\t\t<dd>4</dd>\n",
       "</dl>\n"
      ],
      "text/latex": [
       "\\begin{description*}\n",
       "\\item[fmale] 2\n",
       "\\item[male] 4\n",
       "\\end{description*}\n"
      ],
      "text/markdown": [
       "fmale\n",
       ":   2male\n",
       ":   4\n",
       "\n"
      ],
      "text/plain": [
       "fmale  male \n",
       "    2     4 "
      ]
     },
     "metadata": {},
     "output_type": "display_data"
    }
   ],
   "source": [
    "summary(x)"
   ]
  },
  {
   "cell_type": "code",
   "execution_count": 41,
   "metadata": {
    "collapsed": false,
    "vscode": {
     "languageId": "r"
    }
   },
   "outputs": [
    {
     "name": "stdout",
     "output_type": "stream",
     "text": [
      "[1] male  fmale male  male  fmale male \n",
      "Levels: male fmale\n"
     ]
    }
   ],
   "source": [
    "#change the order of levels\n",
    "#this is important in linear regression. The first level is used as the baseline level.\n",
    "x <- factor(c(\"male\", \"fmale\", \"male\", \"male\", \"fmale\", \"male\"), levels=c(\"male\", \"fmale\"))\n",
    "print(x)"
   ]
  },
  {
   "cell_type": "code",
   "execution_count": 42,
   "metadata": {
    "collapsed": false,
    "vscode": {
     "languageId": "r"
    }
   },
   "outputs": [
    {
     "data": {
      "text/html": [
       "2"
      ],
      "text/latex": [
       "2"
      ],
      "text/markdown": [
       "2"
      ],
      "text/plain": [
       "[1] 2"
      ]
     },
     "metadata": {},
     "output_type": "display_data"
    },
    {
     "name": "stdout",
     "output_type": "stream",
     "text": [
      "[1] 1 1 2 3 1 3 3 2\n",
      "Levels: 1 2 3\n"
     ]
    },
    {
     "name": "stderr",
     "output_type": "stream",
     "text": [
      "Warning message:\n",
      "In Ops.factor(fd[1], fd[2]): ‘+’ not meaningful for factors"
     ]
    },
    {
     "data": {
      "text/plain": [
       "[1] NA"
      ]
     },
     "metadata": {},
     "output_type": "display_data"
    },
    {
     "data": {
      "text/html": [
       "<ol class=list-inline>\n",
       "\t<li>1</li>\n",
       "\t<li>1</li>\n",
       "\t<li>2</li>\n",
       "\t<li>3</li>\n",
       "\t<li>1</li>\n",
       "\t<li>3</li>\n",
       "\t<li>3</li>\n",
       "\t<li>2</li>\n",
       "</ol>\n"
      ],
      "text/latex": [
       "\\begin{enumerate*}\n",
       "\\item 1\n",
       "\\item 1\n",
       "\\item 2\n",
       "\\item 3\n",
       "\\item 1\n",
       "\\item 3\n",
       "\\item 3\n",
       "\\item 2\n",
       "\\end{enumerate*}\n"
      ],
      "text/markdown": [
       "1. 1\n",
       "2. 1\n",
       "3. 2\n",
       "4. 3\n",
       "5. 1\n",
       "6. 3\n",
       "7. 3\n",
       "8. 2\n",
       "\n",
       "\n"
      ],
      "text/plain": [
       "[1] 1 1 2 3 1 3 3 2\n",
       "attr(,\"levels\")\n",
       "[1] \"1\" \"2\" \"3\""
      ]
     },
     "metadata": {},
     "output_type": "display_data"
    }
   ],
   "source": [
    "d <- c(1,1,2,3,1,3,3,2)\n",
    "d[1]+d[2] # integers\n",
    "fd <- factor(d)\n",
    "print(fd)\n",
    "fd[1]+fd[2] #factors, you will get warning\n",
    "unclass(fd) # bring down to integer vector"
   ]
  },
  {
   "cell_type": "code",
   "execution_count": 43,
   "metadata": {
    "collapsed": false,
    "vscode": {
     "languageId": "r"
    }
   },
   "outputs": [
    {
     "name": "stdout",
     "output_type": "stream",
     "text": [
      "[1] A A B C A C C B\n",
      "Levels: A B C\n"
     ]
    }
   ],
   "source": [
    "rd <- factor(d, labels=c(\"A\", \"B\", \"C\")) # factor is as an integer vector where each integer has a label\n",
    "print(rd)"
   ]
  },
  {
   "cell_type": "code",
   "execution_count": 44,
   "metadata": {
    "collapsed": false,
    "vscode": {
     "languageId": "r"
    }
   },
   "outputs": [
    {
     "name": "stdout",
     "output_type": "stream",
     "text": [
      "[1] AA AA BB CC AA CC CC BB\n",
      "Levels: AA BB CC\n"
     ]
    }
   ],
   "source": [
    "levels(rd) <- c(\"AA\", \"BB\", \"CC\")\n",
    "print(rd)"
   ]
  },
  {
   "cell_type": "code",
   "execution_count": 45,
   "metadata": {
    "collapsed": false,
    "vscode": {
     "languageId": "r"
    }
   },
   "outputs": [
    {
     "data": {
      "text/html": [
       "FALSE"
      ],
      "text/latex": [
       "FALSE"
      ],
      "text/markdown": [
       "FALSE"
      ],
      "text/plain": [
       "[1] FALSE"
      ]
     },
     "metadata": {},
     "output_type": "display_data"
    },
    {
     "data": {
      "text/html": [
       "TRUE"
      ],
      "text/latex": [
       "TRUE"
      ],
      "text/markdown": [
       "TRUE"
      ],
      "text/plain": [
       "[1] TRUE"
      ]
     },
     "metadata": {},
     "output_type": "display_data"
    }
   ],
   "source": [
    "is.factor(d)\n",
    "is.factor(fd)"
   ]
  },
  {
   "cell_type": "code",
   "execution_count": 9,
   "metadata": {
    "collapsed": false,
    "vscode": {
     "languageId": "r"
    }
   },
   "outputs": [
    {
     "name": "stdout",
     "output_type": "stream",
     "text": [
      "[1] low    high   medium high   low    medium high  \n",
      "Levels: high low medium\n",
      "[1] low    high   medium high   low    medium high  \n",
      "Levels: low medium high\n"
     ]
    }
   ],
   "source": [
    "#ordered factor variable\n",
    "x1 <- factor(c(\"low\", \"high\", \"medium\", \"high\", \"low\", \"medium\", \"high\"))\n",
    "print(x1)\n",
    "x1f <- factor(x1, levels = c(\"low\", \"medium\", \"high\"))\n",
    "print(x1f)"
   ]
  },
  {
   "cell_type": "code",
   "execution_count": 19,
   "metadata": {
    "collapsed": false,
    "vscode": {
     "languageId": "r"
    }
   },
   "outputs": [
    {
     "name": "stdout",
     "output_type": "stream",
     "text": [
      "[1] low    high   medium high   low    medium high  \n",
      "Levels: low < medium < high\n"
     ]
    }
   ],
   "source": [
    "x1o <- ordered(x1, levels = c(\"low\", \"medium\", \"high\"))\n",
    "print(x1o)"
   ]
  },
  {
   "cell_type": "code",
   "execution_count": 21,
   "metadata": {
    "collapsed": false,
    "vscode": {
     "languageId": "r"
    }
   },
   "outputs": [
    {
     "data": {
      "text/html": [
       "low"
      ],
      "text/latex": [
       "low"
      ],
      "text/markdown": [
       "low"
      ],
      "text/plain": [
       "[1] low\n",
       "Levels: low < medium < high"
      ]
     },
     "metadata": {},
     "output_type": "display_data"
    }
   ],
   "source": [
    "min(x1o) ## works!"
   ]
  },
  {
   "cell_type": "code",
   "execution_count": 16,
   "metadata": {
    "collapsed": false,
    "vscode": {
     "languageId": "r"
    }
   },
   "outputs": [
    {
     "data": {
      "text/html": [
       "TRUE"
      ],
      "text/latex": [
       "TRUE"
      ],
      "text/markdown": [
       "TRUE"
      ],
      "text/plain": [
       "[1] TRUE"
      ]
     },
     "metadata": {},
     "output_type": "display_data"
    }
   ],
   "source": [
    "is.factor(x1o)"
   ]
  },
  {
   "cell_type": "code",
   "execution_count": 17,
   "metadata": {
    "collapsed": false,
    "vscode": {
     "languageId": "r"
    }
   },
   "outputs": [
    {
     "data": {
      "text/html": [
       "<dl>\n",
       "\t<dt>$levels</dt>\n",
       "\t\t<dd><ol class=list-inline>\n",
       "\t<li>'low'</li>\n",
       "\t<li>'medium'</li>\n",
       "\t<li>'high'</li>\n",
       "</ol>\n",
       "</dd>\n",
       "\t<dt>$class</dt>\n",
       "\t\t<dd><ol class=list-inline>\n",
       "\t<li>'ordered'</li>\n",
       "\t<li>'factor'</li>\n",
       "</ol>\n",
       "</dd>\n",
       "</dl>\n"
      ],
      "text/latex": [
       "\\begin{description}\n",
       "\\item[\\$levels] \\begin{enumerate*}\n",
       "\\item 'low'\n",
       "\\item 'medium'\n",
       "\\item 'high'\n",
       "\\end{enumerate*}\n",
       "\n",
       "\\item[\\$class] \\begin{enumerate*}\n",
       "\\item 'ordered'\n",
       "\\item 'factor'\n",
       "\\end{enumerate*}\n",
       "\n",
       "\\end{description}\n"
      ],
      "text/markdown": [
       "$levels\n",
       ":   1. 'low'\n",
       "2. 'medium'\n",
       "3. 'high'\n",
       "\n",
       "\n",
       "\n",
       "$class\n",
       ":   1. 'ordered'\n",
       "2. 'factor'\n",
       "\n",
       "\n",
       "\n",
       "\n",
       "\n"
      ],
      "text/plain": [
       "$levels\n",
       "[1] \"low\"    \"medium\" \"high\"  \n",
       "\n",
       "$class\n",
       "[1] \"ordered\" \"factor\" \n"
      ]
     },
     "metadata": {},
     "output_type": "display_data"
    }
   ],
   "source": [
    "attributes(x1o)"
   ]
  },
  {
   "cell_type": "markdown",
   "metadata": {},
   "source": [
    "By using the gl() function, we can generate factor levels . It takes two integers as input which indicates how many levels and how many times each level.\n",
    "* gl(n, m, labels)\n",
    "* n is the number of levels\n",
    "* m is the number of repeatitions\n",
    "* labels is a vector of labels"
   ]
  },
  {
   "cell_type": "code",
   "execution_count": 22,
   "metadata": {
    "collapsed": false,
    "vscode": {
     "languageId": "r"
    }
   },
   "outputs": [
    {
     "name": "stdout",
     "output_type": "stream",
     "text": [
      " [1] H1 H1 H1 H1 H2 H2 H2 H2 H3 H3 H3 H3\n",
      "Levels: H1 H2 H3\n"
     ]
    }
   ],
   "source": [
    "v <- gl(3, 4, labels = c(\"H1\", \"H2\",\"H3\"))\n",
    "print(v)"
   ]
  },
  {
   "cell_type": "code",
   "execution_count": 23,
   "metadata": {
    "collapsed": false,
    "vscode": {
     "languageId": "r"
    }
   },
   "outputs": [
    {
     "data": {
      "text/html": [
       "'factor'"
      ],
      "text/latex": [
       "'factor'"
      ],
      "text/markdown": [
       "'factor'"
      ],
      "text/plain": [
       "[1] \"factor\""
      ]
     },
     "metadata": {},
     "output_type": "display_data"
    }
   ],
   "source": [
    "class(v)"
   ]
  },
  {
   "cell_type": "markdown",
   "metadata": {},
   "source": [
    "## 2.7 Missing Values\n",
    "A variable might not have a value, ot its value might missing. In R missing values are displayed by the symbol NA (not avaiable). \n",
    "* NA, not available\n",
    "* Makes certain calculations impossible\n",
    "* is.na()\n",
    "* is.nan()\n",
    "* NA values have class"
   ]
  },
  {
   "cell_type": "code",
   "execution_count": 13,
   "metadata": {
    "collapsed": false,
    "vscode": {
     "languageId": "r"
    }
   },
   "outputs": [
    {
     "data": {
      "text/plain": [
       "   Min. 1st Qu.  Median    Mean 3rd Qu.    Max.    NA's \n",
       "  1.000   2.125   2.750   2.625   3.250   4.000       1 "
      ]
     },
     "metadata": {},
     "output_type": "display_data"
    },
    {
     "data": {
      "text/plain": [
       "[1] NA"
      ]
     },
     "metadata": {},
     "output_type": "display_data"
    },
    {
     "data": {
      "text/html": [
       "2.625"
      ],
      "text/latex": [
       "2.625"
      ],
      "text/markdown": [
       "2.625"
      ],
      "text/plain": [
       "[1] 2.625"
      ]
     },
     "metadata": {},
     "output_type": "display_data"
    }
   ],
   "source": [
    "x1 <- c(4, 2.5, 3, NA, 1)\n",
    "summary(x1)  # Works with NA\n",
    "mean(x1)  # Doesn't work\n",
    "mean(x1, na.rm=TRUE)"
   ]
  },
  {
   "cell_type": "code",
   "execution_count": 25,
   "metadata": {
    "collapsed": false,
    "vscode": {
     "languageId": "r"
    }
   },
   "outputs": [
    {
     "data": {
      "text/html": [
       "<ol class=list-inline>\n",
       "\t<li>FALSE</li>\n",
       "\t<li>FALSE</li>\n",
       "\t<li>FALSE</li>\n",
       "\t<li>TRUE</li>\n",
       "\t<li>FALSE</li>\n",
       "</ol>\n"
      ],
      "text/latex": [
       "\\begin{enumerate*}\n",
       "\\item FALSE\n",
       "\\item FALSE\n",
       "\\item FALSE\n",
       "\\item TRUE\n",
       "\\item FALSE\n",
       "\\end{enumerate*}\n"
      ],
      "text/markdown": [
       "1. FALSE\n",
       "2. FALSE\n",
       "3. FALSE\n",
       "4. TRUE\n",
       "5. FALSE\n",
       "\n",
       "\n"
      ],
      "text/plain": [
       "[1] FALSE FALSE FALSE  TRUE FALSE"
      ]
     },
     "metadata": {},
     "output_type": "display_data"
    }
   ],
   "source": [
    "is.na(x1)"
   ]
  },
  {
   "cell_type": "code",
   "execution_count": 26,
   "metadata": {
    "collapsed": false,
    "vscode": {
     "languageId": "r"
    }
   },
   "outputs": [
    {
     "data": {
      "text/html": [
       "4"
      ],
      "text/latex": [
       "4"
      ],
      "text/markdown": [
       "4"
      ],
      "text/plain": [
       "[1] 4"
      ]
     },
     "metadata": {},
     "output_type": "display_data"
    }
   ],
   "source": [
    "# To find missing values\n",
    "which(is.na(x1))  # Give index number"
   ]
  },
  {
   "cell_type": "code",
   "execution_count": 29,
   "metadata": {
    "collapsed": false,
    "vscode": {
     "languageId": "r"
    }
   },
   "outputs": [
    {
     "data": {
      "text/html": [
       "2.625"
      ],
      "text/latex": [
       "2.625"
      ],
      "text/markdown": [
       "2.625"
      ],
      "text/plain": [
       "[1] 2.625"
      ]
     },
     "metadata": {},
     "output_type": "display_data"
    }
   ],
   "source": [
    "# Ignore missing values with na.rm = T\n",
    "mean(x1, na.rm = T)"
   ]
  },
  {
   "cell_type": "code",
   "execution_count": 30,
   "metadata": {
    "collapsed": false,
    "vscode": {
     "languageId": "r"
    }
   },
   "outputs": [
    {
     "data": {
      "text/html": [
       "<ol class=list-inline>\n",
       "\t<li>4</li>\n",
       "\t<li>2.5</li>\n",
       "\t<li>3</li>\n",
       "\t<li>0</li>\n",
       "\t<li>1</li>\n",
       "</ol>\n"
      ],
      "text/latex": [
       "\\begin{enumerate*}\n",
       "\\item 4\n",
       "\\item 2.5\n",
       "\\item 3\n",
       "\\item 0\n",
       "\\item 1\n",
       "\\end{enumerate*}\n"
      ],
      "text/markdown": [
       "1. 4\n",
       "2. 2.5\n",
       "3. 3\n",
       "4. 0\n",
       "5. 1\n",
       "\n",
       "\n"
      ],
      "text/plain": [
       "[1] 4.0 2.5 3.0 0.0 1.0"
      ]
     },
     "metadata": {},
     "output_type": "display_data"
    }
   ],
   "source": [
    "# Replace missing values with 0 (or other number)\n",
    "# In data wrangling you will learn a lot about this.\n",
    "x2 <- x1\n",
    "x2[is.na(x2)] <- 0\n",
    "x2"
   ]
  },
  {
   "cell_type": "markdown",
   "metadata": {},
   "source": [
    "## 2.8 Subsetting\n",
    "\n",
    "* [] always returns an object of the same class\n",
    "* [[]] is used to extract elements from a list fo dataframe. It always return a single element.\n",
    "* $\\$$ to extract elements from a list or dataframe unsing a name"
   ]
  },
  {
   "cell_type": "code",
   "execution_count": 51,
   "metadata": {
    "collapsed": true,
    "vscode": {
     "languageId": "r"
    }
   },
   "outputs": [],
   "source": [
    "x <- c(\"a1\", \"a2\", \"a3\", \"a4\", \"a5\", \"a6\")"
   ]
  },
  {
   "cell_type": "code",
   "execution_count": 52,
   "metadata": {
    "collapsed": false,
    "vscode": {
     "languageId": "r"
    }
   },
   "outputs": [
    {
     "data": {
      "text/html": [
       "'a1'"
      ],
      "text/latex": [
       "'a1'"
      ],
      "text/markdown": [
       "'a1'"
      ],
      "text/plain": [
       "[1] \"a1\""
      ]
     },
     "metadata": {},
     "output_type": "display_data"
    },
    {
     "data": {
      "text/html": [
       "<ol class=list-inline>\n",
       "\t<li>'a2'</li>\n",
       "\t<li>'a3'</li>\n",
       "\t<li>'a4'</li>\n",
       "\t<li>'a5'</li>\n",
       "</ol>\n"
      ],
      "text/latex": [
       "\\begin{enumerate*}\n",
       "\\item 'a2'\n",
       "\\item 'a3'\n",
       "\\item 'a4'\n",
       "\\item 'a5'\n",
       "\\end{enumerate*}\n"
      ],
      "text/markdown": [
       "1. 'a2'\n",
       "2. 'a3'\n",
       "3. 'a4'\n",
       "4. 'a5'\n",
       "\n",
       "\n"
      ],
      "text/plain": [
       "[1] \"a2\" \"a3\" \"a4\" \"a5\""
      ]
     },
     "metadata": {},
     "output_type": "display_data"
    }
   ],
   "source": [
    "x[1] #extracts the first item. it's a vector\n",
    "x[2:5] # extracts a sequence. it's a vector"
   ]
  },
  {
   "cell_type": "code",
   "execution_count": 35,
   "metadata": {
    "collapsed": true,
    "vscode": {
     "languageId": "r"
    }
   },
   "outputs": [],
   "source": [
    "x <- list(prime=c(2,3,5,7), even=c(0,2,4,6), odd=c(1,3,5,7), digit=3.14)"
   ]
  },
  {
   "cell_type": "code",
   "execution_count": 36,
   "metadata": {
    "collapsed": false,
    "vscode": {
     "languageId": "r"
    }
   },
   "outputs": [
    {
     "name": "stdout",
     "output_type": "stream",
     "text": [
      "$prime\n",
      "[1] 2 3 5 7\n",
      "\n",
      "$even\n",
      "[1] 0 2 4 6\n",
      "\n",
      "$odd\n",
      "[1] 1 3 5 7\n",
      "\n",
      "$digit\n",
      "[1] 3.14\n",
      "\n"
     ]
    }
   ],
   "source": [
    "print(x)"
   ]
  },
  {
   "cell_type": "code",
   "execution_count": 40,
   "metadata": {
    "collapsed": false,
    "vscode": {
     "languageId": "r"
    }
   },
   "outputs": [
    {
     "name": "stdout",
     "output_type": "stream",
     "text": [
      "$prime\n",
      "[1] 2 3 5 7\n",
      "\n"
     ]
    },
    {
     "data": {
      "text/html": [
       "'list'"
      ],
      "text/latex": [
       "'list'"
      ],
      "text/markdown": [
       "'list'"
      ],
      "text/plain": [
       "[1] \"list\""
      ]
     },
     "metadata": {},
     "output_type": "display_data"
    }
   ],
   "source": [
    "print(x[1]) #extracts the first element of the list, and it is a list\n",
    "class(x[1])"
   ]
  },
  {
   "cell_type": "code",
   "execution_count": 44,
   "metadata": {
    "collapsed": false,
    "vscode": {
     "languageId": "r"
    }
   },
   "outputs": [
    {
     "name": "stdout",
     "output_type": "stream",
     "text": [
      "[1] 2 3 5 7\n"
     ]
    }
   ],
   "source": [
    "print(x[[1]]) #extracts the first element and returns a vector."
   ]
  },
  {
   "cell_type": "code",
   "execution_count": 57,
   "metadata": {
    "collapsed": false,
    "vscode": {
     "languageId": "r"
    }
   },
   "outputs": [
    {
     "name": "stdout",
     "output_type": "stream",
     "text": [
      "$digit\n",
      "[1] 3.14\n",
      "\n"
     ]
    }
   ],
   "source": [
    "print(x[4])"
   ]
  },
  {
   "cell_type": "code",
   "execution_count": 58,
   "metadata": {
    "collapsed": false,
    "vscode": {
     "languageId": "r"
    }
   },
   "outputs": [
    {
     "name": "stdout",
     "output_type": "stream",
     "text": [
      "[1] 3.14\n"
     ]
    }
   ],
   "source": [
    "print(x[[4]])"
   ]
  },
  {
   "cell_type": "code",
   "execution_count": 59,
   "metadata": {
    "collapsed": false,
    "vscode": {
     "languageId": "r"
    }
   },
   "outputs": [
    {
     "data": {
      "text/html": [
       "3.14"
      ],
      "text/latex": [
       "3.14"
      ],
      "text/markdown": [
       "3.14"
      ],
      "text/plain": [
       "[1] 3.14"
      ]
     },
     "metadata": {},
     "output_type": "display_data"
    }
   ],
   "source": [
    "x$digit"
   ]
  },
  {
   "cell_type": "code",
   "execution_count": 60,
   "metadata": {
    "collapsed": false,
    "vscode": {
     "languageId": "r"
    }
   },
   "outputs": [
    {
     "data": {
      "text/html": [
       "<dl>\n",
       "\t<dt>$prime</dt>\n",
       "\t\t<dd><ol class=list-inline>\n",
       "\t<li>2</li>\n",
       "\t<li>3</li>\n",
       "\t<li>5</li>\n",
       "\t<li>7</li>\n",
       "</ol>\n",
       "</dd>\n",
       "\t<dt>$digit</dt>\n",
       "\t\t<dd>3.14</dd>\n",
       "</dl>\n"
      ],
      "text/latex": [
       "\\begin{description}\n",
       "\\item[\\$prime] \\begin{enumerate*}\n",
       "\\item 2\n",
       "\\item 3\n",
       "\\item 5\n",
       "\\item 7\n",
       "\\end{enumerate*}\n",
       "\n",
       "\\item[\\$digit] 3.14\n",
       "\\end{description}\n"
      ],
      "text/markdown": [
       "$prime\n",
       ":   1. 2\n",
       "2. 3\n",
       "3. 5\n",
       "4. 7\n",
       "\n",
       "\n",
       "\n",
       "$digit\n",
       ":   3.14\n",
       "\n",
       "\n"
      ],
      "text/plain": [
       "$prime\n",
       "[1] 2 3 5 7\n",
       "\n",
       "$digit\n",
       "[1] 3.14\n"
      ]
     },
     "metadata": {},
     "output_type": "display_data"
    }
   ],
   "source": [
    "x[c(1,4)]"
   ]
  },
  {
   "cell_type": "markdown",
   "metadata": {},
   "source": [
    "## 2.9 Vectorised Operations\n",
    "Makes life much easier!! We can treat vectors as single variables in R. sometimes we want to apply a particular calculation on all the members of a vector, or between two vectors."
   ]
  },
  {
   "cell_type": "code",
   "execution_count": 47,
   "metadata": {
    "collapsed": false,
    "vscode": {
     "languageId": "r"
    }
   },
   "outputs": [
    {
     "data": {
      "text/html": [
       "<ol class=list-inline>\n",
       "\t<li>2</li>\n",
       "\t<li>4</li>\n",
       "\t<li>6</li>\n",
       "\t<li>8</li>\n",
       "</ol>\n"
      ],
      "text/latex": [
       "\\begin{enumerate*}\n",
       "\\item 2\n",
       "\\item 4\n",
       "\\item 6\n",
       "\\item 8\n",
       "\\end{enumerate*}\n"
      ],
      "text/markdown": [
       "1. 2\n",
       "2. 4\n",
       "3. 6\n",
       "4. 8\n",
       "\n",
       "\n"
      ],
      "text/plain": [
       "[1] 2 4 6 8"
      ]
     },
     "metadata": {},
     "output_type": "display_data"
    },
    {
     "name": "stdout",
     "output_type": "stream",
     "text": [
      "[1] 3 5 7 9\n"
     ]
    }
   ],
   "source": [
    "x <- 1:4\n",
    "2*x\n",
    "y <- 2:5\n",
    "print(x+y)"
   ]
  },
  {
   "cell_type": "code",
   "execution_count": 48,
   "metadata": {
    "collapsed": false,
    "vscode": {
     "languageId": "r"
    }
   },
   "outputs": [
    {
     "data": {
      "text/html": [
       "<ol class=list-inline>\n",
       "\t<li>3</li>\n",
       "\t<li>4</li>\n",
       "</ol>\n"
      ],
      "text/latex": [
       "\\begin{enumerate*}\n",
       "\\item 3\n",
       "\\item 4\n",
       "\\end{enumerate*}\n"
      ],
      "text/markdown": [
       "1. 3\n",
       "2. 4\n",
       "\n",
       "\n"
      ],
      "text/plain": [
       "[1] 3 4"
      ]
     },
     "metadata": {},
     "output_type": "display_data"
    }
   ],
   "source": [
    "x[x>2]"
   ]
  },
  {
   "cell_type": "code",
   "execution_count": 62,
   "metadata": {
    "collapsed": false,
    "vscode": {
     "languageId": "r"
    }
   },
   "outputs": [
    {
     "name": "stdout",
     "output_type": "stream",
     "text": [
      "[1]  2  6 12 20\n"
     ]
    }
   ],
   "source": [
    "print(x*y)"
   ]
  },
  {
   "cell_type": "code",
   "execution_count": null,
   "metadata": {
    "collapsed": true,
    "vscode": {
     "languageId": "r"
    }
   },
   "outputs": [],
   "source": []
  },
  {
   "cell_type": "code",
   "execution_count": 63,
   "metadata": {
    "collapsed": false,
    "vscode": {
     "languageId": "r"
    }
   },
   "outputs": [
    {
     "name": "stdout",
     "output_type": "stream",
     "text": [
      "[1] FALSE FALSE FALSE FALSE\n"
     ]
    }
   ],
   "source": [
    "print(x>y)"
   ]
  },
  {
   "cell_type": "code",
   "execution_count": 64,
   "metadata": {
    "collapsed": true,
    "vscode": {
     "languageId": "r"
    }
   },
   "outputs": [],
   "source": [
    "# Matrices will be covered soon.\n",
    "m1 <- matrix(1:4,2,2)\n",
    "m2 <- matrix(2:5, 2,2)"
   ]
  },
  {
   "cell_type": "code",
   "execution_count": 65,
   "metadata": {
    "collapsed": false,
    "vscode": {
     "languageId": "r"
    }
   },
   "outputs": [
    {
     "data": {
      "text/html": [
       "<table>\n",
       "<tbody>\n",
       "\t<tr><td>3</td><td>7</td></tr>\n",
       "\t<tr><td>5</td><td>9</td></tr>\n",
       "</tbody>\n",
       "</table>\n"
      ],
      "text/latex": [
       "\\begin{tabular}{ll}\n",
       "\t 3 & 7\\\\\n",
       "\t 5 & 9\\\\\n",
       "\\end{tabular}\n"
      ],
      "text/markdown": [
       "1. 3\n",
       "2. 5\n",
       "3. 7\n",
       "4. 9\n",
       "\n",
       "\n"
      ],
      "text/plain": [
       "     [,1] [,2]\n",
       "[1,] 3    7   \n",
       "[2,] 5    9   "
      ]
     },
     "metadata": {},
     "output_type": "display_data"
    },
    {
     "data": {
      "text/html": [
       "<table>\n",
       "<tbody>\n",
       "\t<tr><td>2 </td><td>12</td></tr>\n",
       "\t<tr><td>6 </td><td>20</td></tr>\n",
       "</tbody>\n",
       "</table>\n"
      ],
      "text/latex": [
       "\\begin{tabular}{ll}\n",
       "\t 2  & 12\\\\\n",
       "\t 6  & 20\\\\\n",
       "\\end{tabular}\n"
      ],
      "text/markdown": [
       "1. 2\n",
       "2. 6\n",
       "3. 12\n",
       "4. 20\n",
       "\n",
       "\n"
      ],
      "text/plain": [
       "     [,1] [,2]\n",
       "[1,] 2    12  \n",
       "[2,] 6    20  "
      ]
     },
     "metadata": {},
     "output_type": "display_data"
    },
    {
     "data": {
      "text/html": [
       "<table>\n",
       "<tbody>\n",
       "\t<tr><td>11</td><td>19</td></tr>\n",
       "\t<tr><td>16</td><td>28</td></tr>\n",
       "</tbody>\n",
       "</table>\n"
      ],
      "text/latex": [
       "\\begin{tabular}{ll}\n",
       "\t 11 & 19\\\\\n",
       "\t 16 & 28\\\\\n",
       "\\end{tabular}\n"
      ],
      "text/markdown": [
       "1. 11\n",
       "2. 16\n",
       "3. 19\n",
       "4. 28\n",
       "\n",
       "\n"
      ],
      "text/plain": [
       "     [,1] [,2]\n",
       "[1,] 11   19  \n",
       "[2,] 16   28  "
      ]
     },
     "metadata": {},
     "output_type": "display_data"
    }
   ],
   "source": [
    "m1+m2\n",
    "m1*m2\n",
    "m1%*%m2 #matrix multiplicatin"
   ]
  },
  {
   "cell_type": "markdown",
   "metadata": {
    "collapsed": true
   },
   "source": [
    "R can perform functions over entire vectors and can be used to select certain elements within a vector. Here is a alist of more frequent functions:\n",
    "* max(x)        \n",
    "* min(x)\n",
    "* sum(x)\n",
    "* mean(x)\n",
    "* var(x)\n",
    "* sd(x)\n",
    "* median(x)\n",
    "* range(x)"
   ]
  },
  {
   "cell_type": "code",
   "execution_count": null,
   "metadata": {
    "collapsed": true,
    "vscode": {
     "languageId": "r"
    }
   },
   "outputs": [],
   "source": []
  }
 ],
 "metadata": {
  "anaconda-cloud": {},
  "kernelspec": {
   "display_name": "R",
   "language": "R",
   "name": "ir"
  },
  "language_info": {
   "codemirror_mode": "r",
   "file_extension": ".r",
   "mimetype": "text/x-r-source",
   "name": "R",
   "pygments_lexer": "r",
   "version": "3.2.2"
  }
 },
 "nbformat": 4,
 "nbformat_minor": 0
}
